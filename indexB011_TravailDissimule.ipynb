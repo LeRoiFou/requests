{
 "cells": [
  {
   "cell_type": "markdown",
   "metadata": {},
   "source": [
    "# [Lutte contre le travail dissimulé par les Urssaf](https://open.urssaf.fr/explore/dataset/resultats-de-la-lutte-contre-le-travail-illegal/information/?refine.ancienne_region=Alsace&dataChart=eyJxdWVyaWVzIjpbeyJjaGFydHMiOlt7ImFsaWduTW9udGgiOnRydWUsInR5cGUiOiJsaW5lIiwiZnVuYyI6IlNVTSIsInlBeGlzIjoibW9udGFudF9yZWRyZXNzZW1lbnRzIiwic2NpZW50aWZpY0Rpc3BsYXkiOnRydWUsImNvbG9yIjoicmFuZ2UtY3VzdG9tIn1dLCJ4QXhpcyI6ImFubmVlIiwibWF4cG9pbnRzIjoiIiwidGltZXNjYWxlIjoieWVhciIsInNvcnQiOiIiLCJzZXJpZXNCcmVha2Rvd24iOiJ0eXBlX2RfYWN0aW9uIiwiY29uZmlnIjp7ImRhdGFzZXQiOiJyZXN1bHRhdHMtZGUtbGEtbHV0dGUtY29udHJlLWxlLXRyYXZhaWwtaWxsZWdhbCIsIm9wdGlvbnMiOnsicmVmaW5lLmFuY2llbm5lX3JlZ2lvbiI6IkFsc2FjZSJ9fX1dLCJkaXNwbGF5TGVnZW5kIjp0cnVlLCJhbGlnbk1vbnRoIjp0cnVlfQ%3D%3D)\n",
    "\n",
    "Résultats annuels de la lutte contre le travail illégal par Urssaf.\n",
    "\n",
    "Date : 17-01-24 <br>\n",
    "Éditeur : <b>Laurent REYNAUD</b>"
   ]
  },
  {
   "cell_type": "code",
   "execution_count": 1,
   "metadata": {},
   "outputs": [],
   "source": [
    "import requests\n",
    "import json\n",
    "import polars as pl"
   ]
  },
  {
   "cell_type": "markdown",
   "metadata": {},
   "source": [
    "### URL API :"
   ]
  },
  {
   "cell_type": "code",
   "execution_count": 3,
   "metadata": {},
   "outputs": [],
   "source": [
    "url_api = \"https://open.urssaf.fr/api/explore/v2.1/catalog/datasets/resultats-de-la-lutte-contre-le-travail-illegal/records?limit=20&refine=ancienne_region%3A%22Alsace%22\""
   ]
  },
  {
   "cell_type": "markdown",
   "metadata": {},
   "source": [
    "### Variables à saisir avec les requêtes SQL WHERE / LIMIT... ci-avant :"
   ]
  },
  {
   "cell_type": "code",
   "execution_count": 14,
   "metadata": {},
   "outputs": [
    {
     "data": {
      "text/plain": [
       "['Alsace',\n",
       " 'Aquitaine',\n",
       " 'Auvergne',\n",
       " 'Bourgogne',\n",
       " 'Bretagne',\n",
       " 'Centre',\n",
       " 'Champagne-Ardenne',\n",
       " 'Corse',\n",
       " 'Franche-Comté',\n",
       " 'Guadeloupe',\n",
       " 'Guyane',\n",
       " 'La Réunion',\n",
       " 'Languedoc-Roussillon',\n",
       " 'Limousin',\n",
       " 'Lorraine',\n",
       " 'Martinique',\n",
       " 'Mayotte',\n",
       " 'Midi-Pyrénées',\n",
       " 'Nord-Pas-de-Calais',\n",
       " 'Normandie',\n",
       " 'Pays de la Loire',\n",
       " 'Picardie',\n",
       " 'Poitou-Charentes',\n",
       " \"Provence-Alpes-Côte d'Azur\",\n",
       " 'Rhône-Alpes',\n",
       " 'Île-de-France']"
      ]
     },
     "execution_count": 14,
     "metadata": {},
     "output_type": "execute_result"
    }
   ],
   "source": [
    "# Récupération des anciennes régions en fichier .csv converti en df polars\n",
    "district_df = pl.read_csv('data/regions.csv')\n",
    "\n",
    "# Conversion de la df polars ci-avant en liste\n",
    "district_list = district_df.to_numpy().tolist()\n",
    "\n",
    "# Compréhension de liste : liste des anciennes régions\n",
    "districts = [district for i in district_list for district in i]\n",
    "\n",
    "districts"
   ]
  },
  {
   "cell_type": "markdown",
   "metadata": {},
   "source": [
    "### Requête SQL avec SELECT :"
   ]
  },
  {
   "cell_type": "markdown",
   "metadata": {},
   "source": [
    "annee, ancienne_region, nombre_redressements, montant_redressements"
   ]
  },
  {
   "cell_type": "markdown",
   "metadata": {},
   "source": [
    "### Requête SQL avec WHERE :"
   ]
  },
  {
   "cell_type": "markdown",
   "metadata": {},
   "source": [
    "nombre_redressements > 0 AND ancienne_region LIKE 'Bretagne'"
   ]
  },
  {
   "cell_type": "markdown",
   "metadata": {},
   "source": [
    "### Requête SQL avec GROUP_BY :"
   ]
  },
  {
   "cell_type": "markdown",
   "metadata": {},
   "source": []
  },
  {
   "cell_type": "markdown",
   "metadata": {},
   "source": [
    "### Requête SQL avec ORDER BY :"
   ]
  },
  {
   "cell_type": "markdown",
   "metadata": {},
   "source": [
    "annee"
   ]
  },
  {
   "cell_type": "markdown",
   "metadata": {},
   "source": [
    "### Requête SQL avec LIMIT :"
   ]
  },
  {
   "cell_type": "markdown",
   "metadata": {},
   "source": [
    "100"
   ]
  },
  {
   "cell_type": "markdown",
   "metadata": {},
   "source": [
    "### URL\n",
    "\n",
    "[Encodage-pourcent](https://fr.wikipedia.org/wiki/Encodage-pourcent)"
   ]
  },
  {
   "cell_type": "code",
   "execution_count": 15,
   "metadata": {},
   "outputs": [],
   "source": [
    "# Accès à l'URL avec le requêtage appliqué : \n",
    "# url = f\"https://open.urssaf.fr/api/explore/v2.1/catalog/datasets/resultats-de-la-lutte-contre-le-travail-illegal/records?select=annee%2C%20ancienne_region%2C%20nombre_redressements%2C%20montant_redressements&where=nombre_redressements%20%3E%200%20AND%20ancienne_region%20LIKE%20%27Bretagne%27&order_by=annee&limit=100\"\n",
    "url = f\"https://open.urssaf.fr/api/explore/v2.1/catalog/datasets/resultats-de-la-lutte-contre-le-travail-illegal/records?select=annee%2C%20ancienne_region%2C%20nombre_redressements%2C%20montant_redressements&where=nombre_redressements%20%3E%200%20AND%20ancienne_region%20LIKE%20%27{districts[2]}%27&order_by=annee&limit=100\""
   ]
  },
  {
   "cell_type": "code",
   "execution_count": 16,
   "metadata": {},
   "outputs": [],
   "source": [
    "# Sous-url :\n",
    "# url = \"https://open.urssaf.fr/api/explore/v2.1/catalog/datasets/resultats-de-la-lutte-contre-le-travail-illegal/records?group_by=ancienne_region&limit=100\""
   ]
  },
  {
   "cell_type": "code",
   "execution_count": 17,
   "metadata": {},
   "outputs": [],
   "source": [
    "# Requête url\n",
    "response = requests.get(url)"
   ]
  },
  {
   "cell_type": "code",
   "execution_count": 18,
   "metadata": {},
   "outputs": [
    {
     "data": {
      "text/plain": [
       "200"
      ]
     },
     "execution_count": 18,
     "metadata": {},
     "output_type": "execute_result"
    }
   ],
   "source": [
    "# Code statut html\n",
    "response.status_code"
   ]
  },
  {
   "cell_type": "code",
   "execution_count": 19,
   "metadata": {},
   "outputs": [],
   "source": [
    "# Récupération du contenu au format json\n",
    "data = json.loads(response.content)"
   ]
  },
  {
   "cell_type": "code",
   "execution_count": 20,
   "metadata": {},
   "outputs": [
    {
     "data": {
      "text/html": [
       "<div><style>\n",
       ".dataframe > thead > tr,\n",
       ".dataframe > tbody > tr {\n",
       "  text-align: right;\n",
       "  white-space: pre-wrap;\n",
       "}\n",
       "</style>\n",
       "<small>shape: (5, 4)</small><table border=\"1\" class=\"dataframe\"><thead><tr><th>annee</th><th>ancienne_region</th><th>nombre_redressements</th><th>montant_redressements</th></tr><tr><td>str</td><td>str</td><td>f64</td><td>f64</td></tr></thead><tbody><tr><td>&quot;2018&quot;</td><td>&quot;Auvergne&quot;</td><td>45.0</td><td>1.951198e6</td></tr><tr><td>&quot;2019&quot;</td><td>&quot;Auvergne&quot;</td><td>29.0</td><td>1.264601e6</td></tr><tr><td>&quot;2020&quot;</td><td>&quot;Auvergne&quot;</td><td>30.0</td><td>2.2127e6</td></tr><tr><td>&quot;2021&quot;</td><td>&quot;Auvergne&quot;</td><td>49.0</td><td>3.3983e6</td></tr><tr><td>&quot;2022&quot;</td><td>&quot;Auvergne&quot;</td><td>63.0</td><td>3.8524e6</td></tr></tbody></table></div>"
      ],
      "text/plain": [
       "shape: (5, 4)\n",
       "┌───────┬─────────────────┬──────────────────────┬───────────────────────┐\n",
       "│ annee ┆ ancienne_region ┆ nombre_redressements ┆ montant_redressements │\n",
       "│ ---   ┆ ---             ┆ ---                  ┆ ---                   │\n",
       "│ str   ┆ str             ┆ f64                  ┆ f64                   │\n",
       "╞═══════╪═════════════════╪══════════════════════╪═══════════════════════╡\n",
       "│ 2018  ┆ Auvergne        ┆ 45.0                 ┆ 1.951198e6            │\n",
       "│ 2019  ┆ Auvergne        ┆ 29.0                 ┆ 1.264601e6            │\n",
       "│ 2020  ┆ Auvergne        ┆ 30.0                 ┆ 2.2127e6              │\n",
       "│ 2021  ┆ Auvergne        ┆ 49.0                 ┆ 3.3983e6              │\n",
       "│ 2022  ┆ Auvergne        ┆ 63.0                 ┆ 3.8524e6              │\n",
       "└───────┴─────────────────┴──────────────────────┴───────────────────────┘"
      ]
     },
     "execution_count": 20,
     "metadata": {},
     "output_type": "execute_result"
    }
   ],
   "source": [
    "# Affichage des données\n",
    "df = pl.DataFrame(data['results'])\n",
    "df"
   ]
  }
 ],
 "metadata": {
  "kernelspec": {
   "display_name": ".venv",
   "language": "python",
   "name": "python3"
  },
  "language_info": {
   "codemirror_mode": {
    "name": "ipython",
    "version": 3
   },
   "file_extension": ".py",
   "mimetype": "text/x-python",
   "name": "python",
   "nbconvert_exporter": "python",
   "pygments_lexer": "ipython3",
   "version": "3.9.2"
  }
 },
 "nbformat": 4,
 "nbformat_minor": 2
}
