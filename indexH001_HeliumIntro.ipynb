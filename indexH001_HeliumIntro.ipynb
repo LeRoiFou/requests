{
 "cells": [
  {
   "cell_type": "markdown",
   "metadata": {},
   "source": [
    "[HELIUM for simple DYNAMIC web scraping with Python](https://www.youtube.com/watch?v=Texh_xJfzEM)\n",
    "\n",
    "Dans ce script, on a accès à la liste des recherches sur Youtube sur 21 one pilots 😯😮\n",
    "\n",
    "Date : 11-06-2024 <br>\n",
    "Éditeur : Laurent Reynaud"
   ]
  },
  {
   "cell_type": "code",
   "execution_count": 24,
   "metadata": {},
   "outputs": [],
   "source": [
    "# %pip install helium"
   ]
  },
  {
   "cell_type": "code",
   "execution_count": 25,
   "metadata": {},
   "outputs": [],
   "source": [
    "from helium import *"
   ]
  },
  {
   "cell_type": "code",
   "execution_count": 26,
   "metadata": {},
   "outputs": [
    {
     "data": {
      "text/plain": [
       "<selenium.webdriver.chrome.webdriver.WebDriver (session=\"6e7839bf0eaf46b326eca0154aaf55ec\")>"
      ]
     },
     "execution_count": 26,
     "metadata": {},
     "output_type": "execute_result"
    }
   ],
   "source": [
    "# Ouverture de la page google Chrome\n",
    "start_chrome()"
   ]
  },
  {
   "cell_type": "code",
   "execution_count": 27,
   "metadata": {},
   "outputs": [],
   "source": [
    "# Accès au site youtube\n",
    "go_to('youtube.com')"
   ]
  },
  {
   "cell_type": "code",
   "execution_count": 28,
   "metadata": {},
   "outputs": [],
   "source": [
    "# Sur la fenêtre qui apparaît \"Avant d'accéder YouTube\", \n",
    "# clique sur le bouton \"Tout accepter\"\n",
    "click('Tout accepter')"
   ]
  },
  {
   "cell_type": "code",
   "execution_count": 29,
   "metadata": {},
   "outputs": [],
   "source": [
    "# Tapper \"21 one pilots\" dans la barre \"Rechercher\"\n",
    "write(\"21 one pilots\", into=\"Rechercher\")"
   ]
  },
  {
   "cell_type": "code",
   "execution_count": 30,
   "metadata": {},
   "outputs": [],
   "source": [
    "# Appuyer sur la touche ENTREE\n",
    "press(ENTER)"
   ]
  }
 ],
 "metadata": {
  "kernelspec": {
   "display_name": "Python 3",
   "language": "python",
   "name": "python3"
  },
  "language_info": {
   "codemirror_mode": {
    "name": "ipython",
    "version": 3
   },
   "file_extension": ".py",
   "mimetype": "text/x-python",
   "name": "python",
   "nbconvert_exporter": "python",
   "pygments_lexer": "ipython3",
   "version": "3.12.3"
  }
 },
 "nbformat": 4,
 "nbformat_minor": 2
}
