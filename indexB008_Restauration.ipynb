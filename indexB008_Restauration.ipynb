{
 "cells": [
  {
   "cell_type": "markdown",
   "metadata": {},
   "source": [
    "# Test des données récupérées par API\n",
    "\n",
    "Ce fichier prend en compte les requêtes pour l'appel API <br><br>\n",
    "Objet du traitement : récupération des salaires bruts et des effectifs dans le secteur de la restauration en prennant en compte la correction des valeurs \n",
    "saisonnières (CVS)\n",
    "\n",
    "À faire avec streamlit :<br>\n",
    "- Un titre principal\n",
    "- Une colonne comprenant un menu déroulant (hébergement / restauration) et une table des données\n",
    "- Une colonne avec un [diagramme linéaire](https://docs.streamlit.io/library/api-reference/charts/st.line_chart)\n",
    "\n",
    "Date : 08-01-2024 <br>\n",
    "Éditeur : <b>Laurent REYNAUD</b>"
   ]
  },
  {
   "cell_type": "code",
   "execution_count": 1,
   "metadata": {},
   "outputs": [],
   "source": [
    "import requests\n",
    "import json\n",
    "import polars as pl"
   ]
  },
  {
   "cell_type": "markdown",
   "metadata": {},
   "source": [
    "### URL API :"
   ]
  },
  {
   "cell_type": "code",
   "execution_count": 3,
   "metadata": {},
   "outputs": [],
   "source": [
    "url_api = \"https://open.urssaf.fr/explore/dataset/effectifs-salaries-et-masse-salariale-du-secteur-prive-france-entiere-x-na88/api/?refine.grand_secteur_d_activite=GS4+H%C3%B4tellerie-restauration&dataChart=eyJxdWVyaWVzIjpbeyJjaGFydHMiOlt7InR5cGUiOiJsaW5lIiwiZnVuYyI6IlNVTSIsInlBeGlzIjoiZWZmZWN0aWZzX3NhbGFyaWVzX2N2cyIsInNjaWVudGlmaWNEaXNwbGF5Ijp0cnVlLCJjb2xvciI6IiM2NmMyYTUifSx7ImFsaWduTW9udGgiOnRydWUsInR5cGUiOiJsaW5lIiwiZnVuYyI6IlNVTSIsInlBeGlzIjoibWFzc2Vfc2FsYXJpYWxlX2N2cyIsInNjaWVudGlmaWNEaXNwbGF5Ijp0cnVlLCJjb2xvciI6IiNmYzhkNjIifV0sInhBeGlzIjoiZGVybmllcl9qb3VyX2R1X3RyaW1lc3RyZSIsIm1heHBvaW50cyI6IiIsInRpbWVzY2FsZSI6ImRheSIsInNvcnQiOiIiLCJjb25maWciOnsiZGF0YXNldCI6ImVmZmVjdGlmcy1zYWxhcmllcy1ldC1tYXNzZS1zYWxhcmlhbGUtZHUtc2VjdGV1ci1wcml2ZS1mcmFuY2UtZW50aWVyZS14LW5hODgiLCJvcHRpb25zIjp7InJlZmluZS5ncmFuZF9zZWN0ZXVyX2RfYWN0aXZpdGUiOiJHUzQgSFx1MDBGNHRlbGxlcmllLXJlc3RhdXJhdGlvbiJ9fX1dLCJkaXNwbGF5TGVnZW5kIjp0cnVlLCJhbGlnbk1vbnRoIjp0cnVlfQ%3D%3D\""
   ]
  },
  {
   "cell_type": "markdown",
   "metadata": {},
   "source": [
    "### Requête SQL avec SELECT :"
   ]
  },
  {
   "cell_type": "markdown",
   "metadata": {},
   "source": [
    "annee, trimestre, effectifs_salaries_cvs, masse_salariale_cvs"
   ]
  },
  {
   "cell_type": "markdown",
   "metadata": {},
   "source": [
    "### Requête SQL avec WHERE :"
   ]
  },
  {
   "cell_type": "markdown",
   "metadata": {},
   "source": [
    "secteur_na88i=\"56 Restauration\" and annee>date'2012'"
   ]
  },
  {
   "cell_type": "markdown",
   "metadata": {},
   "source": [
    "### Requête SQL avec GROUP_BY :"
   ]
  },
  {
   "cell_type": "markdown",
   "metadata": {},
   "source": []
  },
  {
   "cell_type": "markdown",
   "metadata": {},
   "source": [
    "### Requête SQL avec ORDER BY :"
   ]
  },
  {
   "cell_type": "markdown",
   "metadata": {},
   "source": [
    "annee, trimestre"
   ]
  },
  {
   "cell_type": "markdown",
   "metadata": {},
   "source": [
    "### Requête SQL avec LIMIT :"
   ]
  },
  {
   "cell_type": "markdown",
   "metadata": {},
   "source": [
    "100"
   ]
  },
  {
   "cell_type": "markdown",
   "metadata": {},
   "source": [
    "### Variables à saisir avec les requêtes SQL WHERE / LIMIT... ci-avant :"
   ]
  },
  {
   "cell_type": "code",
   "execution_count": 8,
   "metadata": {},
   "outputs": [],
   "source": [
    "sector = input(\"Hébergement ou Restauration ?\")\n",
    "if sector == \"Hebergement\":\n",
    "    selected_sector = '55 Hébergement'\n",
    "else:\n",
    "    selected_sector = '56 Restauration'\n"
   ]
  },
  {
   "cell_type": "markdown",
   "metadata": {},
   "source": [
    "### URL\n",
    "\n",
    "[Encodage-pourcent](https://fr.wikipedia.org/wiki/Encodage-pourcent)"
   ]
  },
  {
   "cell_type": "code",
   "execution_count": 9,
   "metadata": {},
   "outputs": [],
   "source": [
    "# Accès à l'URL avec le requêtage appliqué : \n",
    "# url = f\"https://open.urssaf.fr/api/explore/v2.1/catalog/datasets/effectifs-salaries-et-masse-salariale-du-secteur-prive-france-entiere-x-na88/records?select=annee%2C%20trimestre%2C%20effectifs_salaries_cvs%2C%20masse_salariale_cvs&where=secteur_na88i%3D%2256%20Restauration%22%20and%20annee%3Edate%272012%27&order_by=annee%2C%20trimestre&limit=100&refine=grand_secteur_d_activite%3A%22GS4%20H%C3%B4tellerie-restauration%22\"\n",
    "url = f\"https://open.urssaf.fr/api/explore/v2.1/catalog/datasets/effectifs-salaries-et-masse-salariale-du-secteur-prive-france-entiere-x-na88/records?select=annee%2C%20trimestre%2C%20effectifs_salaries_cvs%2C%20masse_salariale_cvs&where=secteur_na88i%3D%22{selected_sector}%22%20and%20annee%3Edate%272012%27&order_by=annee%2C%20trimestre&limit=100&refine=grand_secteur_d_activite%3A%22GS4%20H%C3%B4tellerie-restauration%22\""
   ]
  },
  {
   "cell_type": "code",
   "execution_count": 10,
   "metadata": {},
   "outputs": [],
   "source": [
    "# Requête url\n",
    "response = requests.get(url)"
   ]
  },
  {
   "cell_type": "code",
   "execution_count": 11,
   "metadata": {},
   "outputs": [
    {
     "data": {
      "text/plain": [
       "200"
      ]
     },
     "execution_count": 11,
     "metadata": {},
     "output_type": "execute_result"
    }
   ],
   "source": [
    "# Code statut html\n",
    "response.status_code"
   ]
  },
  {
   "cell_type": "code",
   "execution_count": 12,
   "metadata": {},
   "outputs": [],
   "source": [
    "# Récupération du contenu au format json\n",
    "data = json.loads(response.content)"
   ]
  },
  {
   "cell_type": "code",
   "execution_count": 22,
   "metadata": {},
   "outputs": [],
   "source": [
    "# Récupération des données converties en DF polars\n",
    "df = pl.DataFrame(data['results'])"
   ]
  },
  {
   "cell_type": "code",
   "execution_count": 21,
   "metadata": {},
   "outputs": [
    {
     "name": "stderr",
     "output_type": "stream",
     "text": [
      "C:\\Users\\LRCOM\\AppData\\Local\\Temp\\ipykernel_15464\\2255914483.py:1: DeprecationWarning: `groupby` is deprecated. It has been renamed to `group_by`.\n",
      "  df = (df.groupby('annee')\n"
     ]
    },
    {
     "data": {
      "text/html": [
       "<div><style>\n",
       ".dataframe > thead > tr,\n",
       ".dataframe > tbody > tr {\n",
       "  text-align: right;\n",
       "  white-space: pre-wrap;\n",
       "}\n",
       "</style>\n",
       "<small>shape: (11, 3)</small><table border=\"1\" class=\"dataframe\"><thead><tr><th>annee</th><th>effectifs_salaries_cvs</th><th>masse_salariale_cvs</th></tr><tr><td>str</td><td>i32</td><td>i32</td></tr></thead><tbody><tr><td>&quot;2013&quot;</td><td>247612</td><td>1392473674</td></tr><tr><td>&quot;2014&quot;</td><td>246791</td><td>1411512483</td></tr><tr><td>&quot;2015&quot;</td><td>248023</td><td>1442101383</td></tr><tr><td>&quot;2016&quot;</td><td>251857</td><td>1471837710</td></tr><tr><td>&quot;2017&quot;</td><td>252874</td><td>1522014547</td></tr><tr><td>&quot;2018&quot;</td><td>258559</td><td>1590974875</td></tr><tr><td>&quot;2019&quot;</td><td>262513</td><td>1655328748</td></tr><tr><td>&quot;2020&quot;</td><td>230783</td><td>1101666695</td></tr><tr><td>&quot;2021&quot;</td><td>242198</td><td>1260706112</td></tr><tr><td>&quot;2022&quot;</td><td>273275</td><td>1812141333</td></tr><tr><td>&quot;2023&quot;</td><td>288318</td><td>2010588038</td></tr></tbody></table></div>"
      ],
      "text/plain": [
       "shape: (11, 3)\n",
       "┌───────┬────────────────────────┬─────────────────────┐\n",
       "│ annee ┆ effectifs_salaries_cvs ┆ masse_salariale_cvs │\n",
       "│ ---   ┆ ---                    ┆ ---                 │\n",
       "│ str   ┆ i32                    ┆ i32                 │\n",
       "╞═══════╪════════════════════════╪═════════════════════╡\n",
       "│ 2013  ┆ 247612                 ┆ 1392473674          │\n",
       "│ 2014  ┆ 246791                 ┆ 1411512483          │\n",
       "│ 2015  ┆ 248023                 ┆ 1442101383          │\n",
       "│ 2016  ┆ 251857                 ┆ 1471837710          │\n",
       "│ …     ┆ …                      ┆ …                   │\n",
       "│ 2020  ┆ 230783                 ┆ 1101666695          │\n",
       "│ 2021  ┆ 242198                 ┆ 1260706112          │\n",
       "│ 2022  ┆ 273275                 ┆ 1812141333          │\n",
       "│ 2023  ┆ 288318                 ┆ 2010588038          │\n",
       "└───────┴────────────────────────┴─────────────────────┘"
      ]
     },
     "execution_count": 21,
     "metadata": {},
     "output_type": "execute_result"
    }
   ],
   "source": [
    "# Moyenne des données par année civile\n",
    "df = (df.groupby('annee')\n",
    "      .agg(pl.mean(['effectifs_salaries_cvs', 'masse_salariale_cvs'])\n",
    "           .cast(pl.Int32))\n",
    "      .sort(by='annee'))\n",
    "df"
   ]
  }
 ],
 "metadata": {
  "kernelspec": {
   "display_name": ".venv",
   "language": "python",
   "name": "python3"
  },
  "language_info": {
   "codemirror_mode": {
    "name": "ipython",
    "version": 3
   },
   "file_extension": ".py",
   "mimetype": "text/x-python",
   "name": "python",
   "nbconvert_exporter": "python",
   "pygments_lexer": "ipython3",
   "version": "3.9.2"
  }
 },
 "nbformat": 4,
 "nbformat_minor": 2
}
