{
 "cells": [
  {
   "cell_type": "markdown",
   "metadata": {},
   "source": [
    "# Données d'une société\n",
    "\n",
    "Réccupération des données sur différents sites @ à partir de son n° INSEE\n",
    "\n",
    "Date : 18/09/2024\n",
    "\n",
    "Editeur : Laurent Reynaud"
   ]
  },
  {
   "cell_type": "code",
   "execution_count": 1,
   "metadata": {},
   "outputs": [],
   "source": [
    "from selenium import webdriver\n",
    "from selenium.webdriver.chrome.options import Options\n",
    "from selenium.webdriver.common.by import By\n",
    "from selenium.webdriver.support.ui import WebDriverWait\n",
    "from selenium.webdriver.support import expected_conditions as EC"
   ]
  },
  {
   "cell_type": "code",
   "execution_count": 2,
   "metadata": {},
   "outputs": [],
   "source": [
    "# N° SIREN ciblé\n",
    "siren = \"443801220\""
   ]
  },
  {
   "cell_type": "code",
   "execution_count": 3,
   "metadata": {},
   "outputs": [],
   "source": [
    "# Google Chrome : suppression de la fenêtre sur le moteur de recherche par défaut\n",
    "chrome_options = Options()\n",
    "chrome_options.add_argument(\"--disable-search-engine-choice-screen\")"
   ]
  },
  {
   "cell_type": "markdown",
   "metadata": {},
   "source": [
    "### SOCIETE.COM"
   ]
  },
  {
   "cell_type": "code",
   "execution_count": 4,
   "metadata": {},
   "outputs": [],
   "source": [
    "# Accès au site web à partir de Google Chrome\n",
    "driver = webdriver.Chrome(options=chrome_options) # google chrome\n",
    "driver.maximize_window() # plein page\n",
    "driver.get('https://www.societe.com/') # site internet ciblé"
   ]
  },
  {
   "cell_type": "code",
   "execution_count": 5,
   "metadata": {},
   "outputs": [],
   "source": [
    "# Bouton : Accepter et Fermer\n",
    "button = driver.find_element(By.ID,'didomi-notice-agree-button')\n",
    "button.click()"
   ]
  },
  {
   "cell_type": "code",
   "execution_count": 6,
   "metadata": {},
   "outputs": [],
   "source": [
    "# Zone de saisie : n° SIREN\n",
    "input_element = driver.find_element(By.ID, \"input_search\")\n",
    "input_element.send_keys(siren)"
   ]
  },
  {
   "cell_type": "code",
   "execution_count": 7,
   "metadata": {},
   "outputs": [],
   "source": [
    "# Bouton : Rechercher\n",
    "button = driver.find_element(By.ID,'buttsearch')\n",
    "button.click()"
   ]
  },
  {
   "cell_type": "code",
   "execution_count": 8,
   "metadata": {},
   "outputs": [],
   "source": [
    "# Sélection de la 1ère société trouvée\n",
    "selection = driver.find_element(By.ID, \"result_deno_societe\")\n",
    "selection.click()"
   ]
  },
  {
   "cell_type": "code",
   "execution_count": 9,
   "metadata": {},
   "outputs": [],
   "source": [
    "# Ouvrir un nouvel onglet\n",
    "driver.execute_script(\"window.open('');\")"
   ]
  },
  {
   "cell_type": "code",
   "execution_count": 10,
   "metadata": {},
   "outputs": [],
   "source": [
    "# Basculer vers le nouvel onglet\n",
    "driver.switch_to.window(driver.window_handles[-1])"
   ]
  },
  {
   "cell_type": "markdown",
   "metadata": {},
   "source": [
    "### INSEE"
   ]
  },
  {
   "cell_type": "code",
   "execution_count": 11,
   "metadata": {},
   "outputs": [],
   "source": [
    "# site internet ciblé\n",
    "driver.get('https://avis-situation-sirene.insee.fr/') "
   ]
  },
  {
   "cell_type": "code",
   "execution_count": 12,
   "metadata": {},
   "outputs": [],
   "source": [
    "# Zone de saisie : n° SIREN\n",
    "input_element = driver.find_element(By.ID, \"SirenSiret\")\n",
    "input_element.send_keys(siren)"
   ]
  },
  {
   "cell_type": "code",
   "execution_count": 13,
   "metadata": {},
   "outputs": [],
   "source": [
    "# Bouton : Rechercher\n",
    "button = driver.find_element(By.CLASS_NAME, \"btn-primary\")\n",
    "button.click()"
   ]
  },
  {
   "cell_type": "code",
   "execution_count": 14,
   "metadata": {},
   "outputs": [],
   "source": [
    "# Ouvrir un nouvel onglet\n",
    "driver.execute_script(\"window.open('');\")"
   ]
  },
  {
   "cell_type": "code",
   "execution_count": 15,
   "metadata": {},
   "outputs": [],
   "source": [
    "# Basculer vers le nouvel onglet\n",
    "driver.switch_to.window(driver.window_handles[-1])"
   ]
  },
  {
   "cell_type": "markdown",
   "metadata": {},
   "source": [
    "### Pappers"
   ]
  },
  {
   "cell_type": "code",
   "execution_count": 16,
   "metadata": {},
   "outputs": [],
   "source": [
    "# site internet ciblé\n",
    "driver.get('https://www.pappers.fr/') "
   ]
  },
  {
   "cell_type": "code",
   "execution_count": 17,
   "metadata": {},
   "outputs": [],
   "source": [
    "# Zone de saisie : n° SIREN\n",
    "search_input = (WebDriverWait( # attente qu'une condition soit remplie\n",
    "    driver, \n",
    "    10 # temps d'attente max en secondes\n",
    "    ).until(\n",
    "        EC.presence_of_element_located(\n",
    "            (By.XPATH, \n",
    "             \"//input[@placeholder='Entreprise, N° SIREN, Dirigeant, Mot-clé...']\"\n",
    "             ))\n",
    "    ))\n",
    "search_input.send_keys(siren)"
   ]
  },
  {
   "cell_type": "code",
   "execution_count": 18,
   "metadata": {},
   "outputs": [],
   "source": [
    "# Bouton : Rechercher\n",
    "button = (WebDriverWait( # attente qu'une condition soit remplie\n",
    "    driver, \n",
    "    10 # temps d'attente max en secondes\n",
    "    ).until(\n",
    "        EC.element_to_be_clickable(\n",
    "            (By.XPATH, \n",
    "             \"//button[contains(text(), 'Rechercher')]\"\n",
    "             ))\n",
    "    ))\n",
    "button.click()"
   ]
  }
 ],
 "metadata": {
  "kernelspec": {
   "display_name": "Python 3",
   "language": "python",
   "name": "python3"
  },
  "language_info": {
   "codemirror_mode": {
    "name": "ipython",
    "version": 3
   },
   "file_extension": ".py",
   "mimetype": "text/x-python",
   "name": "python",
   "nbconvert_exporter": "python",
   "pygments_lexer": "ipython3",
   "version": "3.12.5"
  }
 },
 "nbformat": 4,
 "nbformat_minor": 2
}
