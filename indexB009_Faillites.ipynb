{
 "cells": [
  {
   "cell_type": "markdown",
   "metadata": {},
   "source": [
    "# Test des données récupérées par API\n",
    "\n",
    "Ce fichier prend en compte les requêtes pour l'appel API\n",
    "\n",
    "<b>[Procédures collectives dans la France entière](https://open.urssaf.fr/explore/dataset/procedures-collectives-france-entiere/table/?sort=-dernier_jour_du_trimestre)</b>\n",
    "\n",
    "Source : URSSAF <br>\n",
    "Les procédures collectives sont dénombrées par entreprise. <br>\n",
    "L’Urssaf est à l’origine de ces procédures dans moins d’un cas sur trois.<br>\n",
    "Les données sont brutes et corrigées des variations saisonnières.\n",
    "\n",
    "Date :  10/01/2024<br>\n",
    "Éditeur : <b>Laurent REYNAUD</b>"
   ]
  },
  {
   "cell_type": "code",
   "execution_count": 1,
   "metadata": {},
   "outputs": [],
   "source": [
    "import requests\n",
    "import json\n",
    "import polars as pl"
   ]
  },
  {
   "cell_type": "markdown",
   "metadata": {},
   "source": [
    "### URL API :"
   ]
  },
  {
   "cell_type": "code",
   "execution_count": 2,
   "metadata": {},
   "outputs": [],
   "source": [
    "url_api = \"https://open.urssaf.fr/api/explore/v2.1/catalog/datasets/procedures-collectives-france-entiere/records?limit=20\""
   ]
  },
  {
   "cell_type": "markdown",
   "metadata": {},
   "source": [
    "### Requête SQL avec SELECT :"
   ]
  },
  {
   "cell_type": "markdown",
   "metadata": {},
   "source": [
    "annee, trimestre, nombre_de_procedures_cvs"
   ]
  },
  {
   "cell_type": "markdown",
   "metadata": {},
   "source": [
    "### Requête SQL avec WHERE :"
   ]
  },
  {
   "cell_type": "markdown",
   "metadata": {},
   "source": [
    "nature_de_procedure LIKE 'Liquidation judiciaire' AND annee > date'2012'"
   ]
  },
  {
   "cell_type": "markdown",
   "metadata": {},
   "source": [
    "### Requête SQL avec GROUP_BY :"
   ]
  },
  {
   "cell_type": "markdown",
   "metadata": {},
   "source": []
  },
  {
   "cell_type": "markdown",
   "metadata": {},
   "source": [
    "### Requête SQL avec ORDER BY :"
   ]
  },
  {
   "cell_type": "markdown",
   "metadata": {},
   "source": [
    "annee ASC, trimestre ASC"
   ]
  },
  {
   "cell_type": "markdown",
   "metadata": {},
   "source": [
    "### Requête SQL avec LIMIT :"
   ]
  },
  {
   "cell_type": "markdown",
   "metadata": {},
   "source": [
    "100"
   ]
  },
  {
   "cell_type": "markdown",
   "metadata": {},
   "source": [
    "### Variables à saisir avec les requêtes SQL WHERE / LIMIT... ci-avant :"
   ]
  },
  {
   "cell_type": "code",
   "execution_count": 2,
   "metadata": {},
   "outputs": [],
   "source": [
    "procedure=['Liquidation judiciaire', 'Redressement judiciaire', 'Sauvegarde']"
   ]
  },
  {
   "cell_type": "markdown",
   "metadata": {},
   "source": [
    "### URL\n",
    "\n",
    "[Encodage-pourcent](https://fr.wikipedia.org/wiki/Encodage-pourcent)"
   ]
  },
  {
   "cell_type": "code",
   "execution_count": 3,
   "metadata": {},
   "outputs": [],
   "source": [
    "# Accès à l'URL avec le requêtage appliqué : \n",
    "url = f\"https://open.urssaf.fr/api/explore/v2.1/catalog/datasets/procedures-collectives-france-entiere/records?select=annee%2C%20trimestre%2C%20nombre_de_procedures_cvs&where=nature_de_procedure%20LIKE%20%27{procedure[1]}%27%20AND%20annee%20%3E%20date%272012%27&order_by=annee%20ASC%2C%20trimestre%20ASC&limit=100\""
   ]
  },
  {
   "cell_type": "code",
   "execution_count": 4,
   "metadata": {},
   "outputs": [],
   "source": [
    "# Requête url\n",
    "response = requests.get(url)"
   ]
  },
  {
   "cell_type": "code",
   "execution_count": 5,
   "metadata": {},
   "outputs": [
    {
     "data": {
      "text/plain": [
       "200"
      ]
     },
     "execution_count": 5,
     "metadata": {},
     "output_type": "execute_result"
    }
   ],
   "source": [
    "# Code statut html\n",
    "response.status_code"
   ]
  },
  {
   "cell_type": "code",
   "execution_count": 6,
   "metadata": {},
   "outputs": [],
   "source": [
    "# Récupération du contenu au format json\n",
    "data = json.loads(response.content)"
   ]
  },
  {
   "cell_type": "code",
   "execution_count": 23,
   "metadata": {},
   "outputs": [],
   "source": [
    "# Affichage des données\n",
    "df = pl.DataFrame(data['results'])"
   ]
  },
  {
   "cell_type": "code",
   "execution_count": 24,
   "metadata": {},
   "outputs": [],
   "source": [
    "# Renommage des champs\n",
    "df = df.rename({'annee': 'Annee', 'trimestre': 'Trimestre',\n",
    "                'nombre_de_procedures_cvs' : \"Nombre de procédures\"})"
   ]
  },
  {
   "cell_type": "code",
   "execution_count": 27,
   "metadata": {},
   "outputs": [
    {
     "data": {
      "text/html": [
       "<div><style>\n",
       ".dataframe > thead > tr,\n",
       ".dataframe > tbody > tr {\n",
       "  text-align: right;\n",
       "  white-space: pre-wrap;\n",
       "}\n",
       "</style>\n",
       "<small>shape: (43, 4)</small><table border=\"1\" class=\"dataframe\"><thead><tr><th>Annee</th><th>Trimestre</th><th>Nombre de procédures</th><th>Periode</th></tr><tr><td>str</td><td>i64</td><td>i64</td><td>str</td></tr></thead><tbody><tr><td>&quot;2013&quot;</td><td>1</td><td>4003</td><td>&quot;2013 - 1&quot;</td></tr><tr><td>&quot;2013&quot;</td><td>2</td><td>4146</td><td>&quot;2013 - 2&quot;</td></tr><tr><td>&quot;2013&quot;</td><td>3</td><td>4170</td><td>&quot;2013 - 3&quot;</td></tr><tr><td>&quot;2013&quot;</td><td>4</td><td>4064</td><td>&quot;2013 - 4&quot;</td></tr><tr><td>&quot;2014&quot;</td><td>1</td><td>4034</td><td>&quot;2014 - 1&quot;</td></tr><tr><td>&quot;2014&quot;</td><td>2</td><td>3937</td><td>&quot;2014 - 2&quot;</td></tr><tr><td>&quot;2014&quot;</td><td>3</td><td>3893</td><td>&quot;2014 - 3&quot;</td></tr><tr><td>&quot;2014&quot;</td><td>4</td><td>3866</td><td>&quot;2014 - 4&quot;</td></tr><tr><td>&quot;2015&quot;</td><td>1</td><td>4232</td><td>&quot;2015 - 1&quot;</td></tr><tr><td>&quot;2015&quot;</td><td>2</td><td>3925</td><td>&quot;2015 - 2&quot;</td></tr><tr><td>&quot;2015&quot;</td><td>3</td><td>4038</td><td>&quot;2015 - 3&quot;</td></tr><tr><td>&quot;2015&quot;</td><td>4</td><td>3966</td><td>&quot;2015 - 4&quot;</td></tr><tr><td>&hellip;</td><td>&hellip;</td><td>&hellip;</td><td>&hellip;</td></tr><tr><td>&quot;2020&quot;</td><td>4</td><td>1433</td><td>&quot;2020 - 4&quot;</td></tr><tr><td>&quot;2021&quot;</td><td>1</td><td>1080</td><td>&quot;2021 - 1&quot;</td></tr><tr><td>&quot;2021&quot;</td><td>2</td><td>1098</td><td>&quot;2021 - 2&quot;</td></tr><tr><td>&quot;2021&quot;</td><td>3</td><td>1272</td><td>&quot;2021 - 3&quot;</td></tr><tr><td>&quot;2021&quot;</td><td>4</td><td>1367</td><td>&quot;2021 - 4&quot;</td></tr><tr><td>&quot;2022&quot;</td><td>1</td><td>1609</td><td>&quot;2022 - 1&quot;</td></tr><tr><td>&quot;2022&quot;</td><td>2</td><td>1756</td><td>&quot;2022 - 2&quot;</td></tr><tr><td>&quot;2022&quot;</td><td>3</td><td>2171</td><td>&quot;2022 - 3&quot;</td></tr><tr><td>&quot;2022&quot;</td><td>4</td><td>2170</td><td>&quot;2022 - 4&quot;</td></tr><tr><td>&quot;2023&quot;</td><td>1</td><td>2448</td><td>&quot;2023 - 1&quot;</td></tr><tr><td>&quot;2023&quot;</td><td>2</td><td>2938</td><td>&quot;2023 - 2&quot;</td></tr><tr><td>&quot;2023&quot;</td><td>3</td><td>3221</td><td>&quot;2023 - 3&quot;</td></tr></tbody></table></div>"
      ],
      "text/plain": [
       "shape: (43, 4)\n",
       "┌───────┬───────────┬──────────────────────┬──────────┐\n",
       "│ Annee ┆ Trimestre ┆ Nombre de procédures ┆ Periode  │\n",
       "│ ---   ┆ ---       ┆ ---                  ┆ ---      │\n",
       "│ str   ┆ i64       ┆ i64                  ┆ str      │\n",
       "╞═══════╪═══════════╪══════════════════════╪══════════╡\n",
       "│ 2013  ┆ 1         ┆ 4003                 ┆ 2013 - 1 │\n",
       "│ 2013  ┆ 2         ┆ 4146                 ┆ 2013 - 2 │\n",
       "│ 2013  ┆ 3         ┆ 4170                 ┆ 2013 - 3 │\n",
       "│ 2013  ┆ 4         ┆ 4064                 ┆ 2013 - 4 │\n",
       "│ …     ┆ …         ┆ …                    ┆ …        │\n",
       "│ 2022  ┆ 4         ┆ 2170                 ┆ 2022 - 4 │\n",
       "│ 2023  ┆ 1         ┆ 2448                 ┆ 2023 - 1 │\n",
       "│ 2023  ┆ 2         ┆ 2938                 ┆ 2023 - 2 │\n",
       "│ 2023  ┆ 3         ┆ 3221                 ┆ 2023 - 3 │\n",
       "└───────┴───────────┴──────────────────────┴──────────┘"
      ]
     },
     "execution_count": 27,
     "metadata": {},
     "output_type": "execute_result"
    }
   ],
   "source": [
    "# Concaténation des champs Annee et Trimestre\n",
    "df.with_columns(pl.concat_str([pl.col('Annee'), \n",
    "                               pl.lit(' - '), \n",
    "                               pl.col('Trimestre')]).alias('Periode'))"
   ]
  }
 ],
 "metadata": {
  "kernelspec": {
   "display_name": ".venv",
   "language": "python",
   "name": "python3"
  },
  "language_info": {
   "codemirror_mode": {
    "name": "ipython",
    "version": 3
   },
   "file_extension": ".py",
   "mimetype": "text/x-python",
   "name": "python",
   "nbconvert_exporter": "python",
   "pygments_lexer": "ipython3",
   "version": "3.9.2"
  }
 },
 "nbformat": 4,
 "nbformat_minor": 2
}
