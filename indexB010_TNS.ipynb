{
 "cells": [
  {
   "cell_type": "markdown",
   "metadata": {},
   "source": [
    "# [Les revenus des travailleurs indépendants, par département](https://open.urssaf.fr/explore/dataset/les-revenus-des-travailleurs-independants-par-departement/information/?dataChart=eyJxdWVyaWVzIjpbeyJjaGFydHMiOlt7InR5cGUiOiJjb2x1bW4iLCJmdW5jIjoiQVZHIiwieUF4aXMiOiJyZXZlbnUiLCJzY2llbnRpZmljRGlzcGxheSI6dHJ1ZSwiY29sb3IiOiJyYW5nZS1jdXN0b20ifV0sInhBeGlzIjoiYW5jaWVubmVfcmVnaW9uIiwibWF4cG9pbnRzIjpudWxsLCJ0aW1lc2NhbGUiOiIiLCJzb3J0IjoiIiwic2VyaWVzQnJlYWtkb3duIjoidHlwZV9kZV90cmF2YWlsbGV1cl9pbmRlcGVuZGFudCIsInN0YWNrZWQiOiJub3JtYWwiLCJjb25maWciOnsiZGF0YXNldCI6Imxlcy1yZXZlbnVzLWRlcy10cmF2YWlsbGV1cnMtaW5kZXBlbmRhbnRzLXBhci1kZXBhcnRlbWVudCIsIm9wdGlvbnMiOnt9fX1dLCJkaXNwbGF5TGVnZW5kIjp0cnVlLCJhbGlnbk1vbnRoIjp0cnVlLCJ0aW1lc2NhbGUiOiIifQ%3D%3D)\n",
    "\n",
    "\n",
    "\n",
    "\n",
    "Date : 11-01-2024 <br>\n",
    "Éditeur : <b>Laurent REYNAUD</b>"
   ]
  },
  {
   "cell_type": "code",
   "execution_count": 3,
   "metadata": {},
   "outputs": [],
   "source": [
    "import requests\n",
    "import json\n",
    "import polars as pl"
   ]
  },
  {
   "cell_type": "markdown",
   "metadata": {},
   "source": [
    "### URL API :"
   ]
  },
  {
   "cell_type": "code",
   "execution_count": 4,
   "metadata": {},
   "outputs": [],
   "source": [
    "url_api = \"https://open.urssaf.fr/api/explore/v2.1/catalog/datasets/les-revenus-des-travailleurs-independants-par-departement/records?limit=20\""
   ]
  },
  {
   "cell_type": "markdown",
   "metadata": {},
   "source": [
    "### Variables à saisir avec les requêtes SQL WHERE / LIMIT..."
   ]
  },
  {
   "cell_type": "code",
   "execution_count": 5,
   "metadata": {},
   "outputs": [],
   "source": [
    "# Type de TNS\n",
    "type_list = ['Autoentrepreneur', 'TI classique']\n",
    "\n",
    "# Regions\n",
    "regions_list = pl.read_csv('data/regions.csv').to_numpy().tolist()\n",
    "regions = [region for region_list in regions_list\n",
    "             for region in region_list]\n",
    "\n",
    "# Départements\n",
    "departments_list = pl.read_csv('data/departments.csv').to_numpy().tolist()\n",
    "departments = [department for department_list in departments_list\n",
    "             for department in department_list]"
   ]
  },
  {
   "cell_type": "markdown",
   "metadata": {},
   "source": [
    "### Requête SQL avec SELECT :"
   ]
  },
  {
   "cell_type": "markdown",
   "metadata": {},
   "source": [
    "annee, nombre_de_ti, revenu"
   ]
  },
  {
   "cell_type": "markdown",
   "metadata": {},
   "source": [
    "### Requête SQL avec WHERE :"
   ]
  },
  {
   "cell_type": "markdown",
   "metadata": {},
   "source": [
    "type_de_travailleur_independant='Autoentrepreneur' AND ancienne_region=\"Auvergne\" AND departement=\"Allier\" AND annee > date'2012'"
   ]
  },
  {
   "cell_type": "markdown",
   "metadata": {},
   "source": [
    "### Requête SQL avec GROUP_BY :"
   ]
  },
  {
   "cell_type": "markdown",
   "metadata": {},
   "source": [
    "### Requête SQL avec ORDER BY :"
   ]
  },
  {
   "cell_type": "markdown",
   "metadata": {},
   "source": [
    "annee"
   ]
  },
  {
   "cell_type": "markdown",
   "metadata": {},
   "source": [
    "### Requête SQL avec LIMIT :"
   ]
  },
  {
   "cell_type": "markdown",
   "metadata": {},
   "source": [
    "100"
   ]
  },
  {
   "cell_type": "markdown",
   "metadata": {},
   "source": [
    "### URL\n",
    "\n",
    "[Encodage-pourcent](https://fr.wikipedia.org/wiki/Encodage-pourcent)"
   ]
  },
  {
   "cell_type": "code",
   "execution_count": 6,
   "metadata": {},
   "outputs": [],
   "source": [
    "# Accès à l'URL avec le requêtage appliqué : \n",
    "# url = \"https://open.urssaf.fr/api/explore/v2.1/catalog/datasets/les-revenus-des-travailleurs-independants-par-departement/records?select=annee%2C%20nombre_de_ti%2C%20revenu&where=type_de_travailleur_independant%3D%27Autoentrepreneur%27%20AND%20ancienne_region%3D%22Auvergne%22%20AND%20departement%3D%22Allier%22%20AND%20annee%20%3E%20date%272012%27&order_by=annee&limit=100\"\n",
    "url = f\"https://open.urssaf.fr/api/explore/v2.1/catalog/datasets/les-revenus-des-travailleurs-independants-par-departement/records?select=annee%2C%20nombre_de_ti%2C%20revenu&where=type_de_travailleur_independant%3D%27{type_list[0]}%27%20AND%20departement%3D%22{departments[2]}%22%20AND%20annee%20%3E%20date%272012%27&order_by=annee&limit=100\""
   ]
  },
  {
   "cell_type": "code",
   "execution_count": 7,
   "metadata": {},
   "outputs": [],
   "source": [
    "# Requête url\n",
    "response = requests.get(url)"
   ]
  },
  {
   "cell_type": "code",
   "execution_count": 8,
   "metadata": {},
   "outputs": [
    {
     "data": {
      "text/plain": [
       "200"
      ]
     },
     "execution_count": 8,
     "metadata": {},
     "output_type": "execute_result"
    }
   ],
   "source": [
    "# Code statut html\n",
    "response.status_code"
   ]
  },
  {
   "cell_type": "code",
   "execution_count": 9,
   "metadata": {},
   "outputs": [],
   "source": [
    "# Récupération du contenu au format json\n",
    "data = json.loads(response.content)"
   ]
  },
  {
   "cell_type": "code",
   "execution_count": 10,
   "metadata": {},
   "outputs": [
    {
     "data": {
      "text/html": [
       "<div><style>\n",
       ".dataframe > thead > tr,\n",
       ".dataframe > tbody > tr {\n",
       "  text-align: right;\n",
       "  white-space: pre-wrap;\n",
       "}\n",
       "</style>\n",
       "<small>shape: (10, 3)</small><table border=\"1\" class=\"dataframe\"><thead><tr><th>annee</th><th>nombre_de_ti</th><th>revenu</th></tr><tr><td>str</td><td>i64</td><td>i64</td></tr></thead><tbody><tr><td>&quot;2013&quot;</td><td>3395</td><td>12078585</td></tr><tr><td>&quot;2014&quot;</td><td>3655</td><td>13063634</td></tr><tr><td>&quot;2015&quot;</td><td>3836</td><td>14427553</td></tr><tr><td>&quot;2016&quot;</td><td>3978</td><td>16060848</td></tr><tr><td>&quot;2017&quot;</td><td>4200</td><td>18134385</td></tr><tr><td>&quot;2018&quot;</td><td>4599</td><td>22789551</td></tr><tr><td>&quot;2019&quot;</td><td>5007</td><td>27949674</td></tr><tr><td>&quot;2020&quot;</td><td>5376</td><td>27608721</td></tr><tr><td>&quot;2021&quot;</td><td>6210</td><td>36014314</td></tr><tr><td>&quot;2022&quot;</td><td>6708</td><td>42278648</td></tr></tbody></table></div>"
      ],
      "text/plain": [
       "shape: (10, 3)\n",
       "┌───────┬──────────────┬──────────┐\n",
       "│ annee ┆ nombre_de_ti ┆ revenu   │\n",
       "│ ---   ┆ ---          ┆ ---      │\n",
       "│ str   ┆ i64          ┆ i64      │\n",
       "╞═══════╪══════════════╪══════════╡\n",
       "│ 2013  ┆ 3395         ┆ 12078585 │\n",
       "│ 2014  ┆ 3655         ┆ 13063634 │\n",
       "│ 2015  ┆ 3836         ┆ 14427553 │\n",
       "│ 2016  ┆ 3978         ┆ 16060848 │\n",
       "│ …     ┆ …            ┆ …        │\n",
       "│ 2019  ┆ 5007         ┆ 27949674 │\n",
       "│ 2020  ┆ 5376         ┆ 27608721 │\n",
       "│ 2021  ┆ 6210         ┆ 36014314 │\n",
       "│ 2022  ┆ 6708         ┆ 42278648 │\n",
       "└───────┴──────────────┴──────────┘"
      ]
     },
     "execution_count": 10,
     "metadata": {},
     "output_type": "execute_result"
    }
   ],
   "source": [
    "# Affichage des données\n",
    "df = pl.DataFrame(data['results'])\n",
    "df"
   ]
  }
 ],
 "metadata": {
  "kernelspec": {
   "display_name": ".venv",
   "language": "python",
   "name": "python3"
  },
  "language_info": {
   "codemirror_mode": {
    "name": "ipython",
    "version": 3
   },
   "file_extension": ".py",
   "mimetype": "text/x-python",
   "name": "python",
   "nbconvert_exporter": "python",
   "pygments_lexer": "ipython3",
   "version": "3.9.2"
  }
 },
 "nbformat": 4,
 "nbformat_minor": 2
}
