{
 "cells": [
  {
   "cell_type": "markdown",
   "metadata": {},
   "source": [
    "# Test des données récupérées par API\n",
    "\n",
    "Ce fichier prend en compte les requêtes pour l'appel API\n",
    "\n",
    "Date : 28-12-2023 <br>\n",
    "Éditeur : <b>Laurent REYNAUD</b>"
   ]
  },
  {
   "cell_type": "code",
   "execution_count": 2,
   "metadata": {},
   "outputs": [],
   "source": [
    "import requests\n",
    "import json\n",
    "import polars as pl"
   ]
  },
  {
   "cell_type": "markdown",
   "metadata": {},
   "source": [
    "### URL API :"
   ]
  },
  {
   "cell_type": "code",
   "execution_count": 3,
   "metadata": {},
   "outputs": [],
   "source": [
    "url_api = \"https://data.economie.gouv.fr/api/explore/v2.1/catalog/datasets/controle_techn/records\""
   ]
  },
  {
   "cell_type": "markdown",
   "metadata": {},
   "source": [
    "### Requête SQL avec SELECT :"
   ]
  },
  {
   "cell_type": "markdown",
   "metadata": {},
   "source": []
  },
  {
   "cell_type": "markdown",
   "metadata": {},
   "source": [
    "### Requête SQL avec WHERE :"
   ]
  },
  {
   "cell_type": "markdown",
   "metadata": {},
   "source": [
    "code_postal='34080'"
   ]
  },
  {
   "cell_type": "markdown",
   "metadata": {},
   "source": [
    "### Requête SQL avec GROUP_BY :"
   ]
  },
  {
   "cell_type": "markdown",
   "metadata": {},
   "source": [
    "cct_denomination AS nom, cct_adresse AS adresse, code_postal, cct_code_commune AS commune, prix_visite, prix_contre_visite_min, prix_contre_visite_max"
   ]
  },
  {
   "cell_type": "markdown",
   "metadata": {},
   "source": [
    "### Requête SQL avec ORDER BY :"
   ]
  },
  {
   "cell_type": "markdown",
   "metadata": {},
   "source": [
    "prix_visite"
   ]
  },
  {
   "cell_type": "markdown",
   "metadata": {},
   "source": [
    "### Requête SQL avec LIMIT :"
   ]
  },
  {
   "cell_type": "markdown",
   "metadata": {},
   "source": [
    "50"
   ]
  },
  {
   "cell_type": "markdown",
   "metadata": {},
   "source": [
    "### Variables à saisir avec les requêtes SQL WHERE / LIMIT... ci-avant :"
   ]
  },
  {
   "cell_type": "code",
   "execution_count": 15,
   "metadata": {},
   "outputs": [
    {
     "data": {
      "text/plain": [
       "'83500'"
      ]
     },
     "execution_count": 15,
     "metadata": {},
     "output_type": "execute_result"
    }
   ],
   "source": [
    "code_postal = input(\"Code postal : \")\n",
    "limit = int(input(\"Nombre max d'affichage : \"))\n",
    "code_postal"
   ]
  },
  {
   "cell_type": "code",
   "execution_count": 16,
   "metadata": {},
   "outputs": [],
   "source": [
    "# Accès à l'URL avec le requêtage appliqué : \n",
    "url = f\"https://data.economie.gouv.fr/api/explore/v2.1/catalog/datasets/controle_techn/records?where=code_postal%3D%27{code_postal}%27&group_by=cct_denomination%20AS%20nom%2C%20cct_adresse%20AS%20adresse%2C%20code_postal%2C%20cct_code_commune%20AS%20commune%2C%20prix_visite%2C%20prix_contre_visite_min%2C%20prix_contre_visite_max&order_by=prix_visite&limit={limit}\""
   ]
  },
  {
   "cell_type": "code",
   "execution_count": 17,
   "metadata": {},
   "outputs": [],
   "source": [
    "# Requête url\n",
    "response = requests.get(url)"
   ]
  },
  {
   "cell_type": "code",
   "execution_count": 18,
   "metadata": {},
   "outputs": [
    {
     "data": {
      "text/plain": [
       "200"
      ]
     },
     "execution_count": 18,
     "metadata": {},
     "output_type": "execute_result"
    }
   ],
   "source": [
    "# Code statut html\n",
    "response.status_code"
   ]
  },
  {
   "cell_type": "code",
   "execution_count": 19,
   "metadata": {},
   "outputs": [],
   "source": [
    "# Récupération du contenu au format json\n",
    "data = json.loads(response.content)"
   ]
  },
  {
   "cell_type": "code",
   "execution_count": 20,
   "metadata": {},
   "outputs": [
    {
     "data": {
      "text/html": [
       "<div><style>\n",
       ".dataframe > thead > tr,\n",
       ".dataframe > tbody > tr {\n",
       "  text-align: right;\n",
       "  white-space: pre-wrap;\n",
       "}\n",
       "</style>\n",
       "<small>shape: (14, 7)</small><table border=\"1\" class=\"dataframe\"><thead><tr><th>nom</th><th>adresse</th><th>code_postal</th><th>commune</th><th>prix_visite</th><th>prix_contre_visite_min</th><th>prix_contre_visite_max</th></tr><tr><td>str</td><td>str</td><td>str</td><td>str</td><td>f64</td><td>f64</td><td>f64</td></tr></thead><tbody><tr><td>&quot;C.T HERMITTE S…</td><td>&quot;CAMP LAURENT&quot;</td><td>&quot;83500&quot;</td><td>&quot;La Seyne-sur-M…</td><td>82.0</td><td>15.0</td><td>30.0</td></tr><tr><td>&quot;AUTO CONTROLE …</td><td>&quot;39 RUE LOUIS M…</td><td>&quot;83500&quot;</td><td>&quot;La Seyne-sur-M…</td><td>85.0</td><td>10.0</td><td>30.0</td></tr><tr><td>&quot;SIX FOURS AUTO…</td><td>&quot;199 AV PABLO N…</td><td>&quot;83500&quot;</td><td>&quot;La Seyne-sur-M…</td><td>85.0</td><td>15.0</td><td>30.0</td></tr><tr><td>&quot;C.T HERMITTE S…</td><td>&quot;CAMP LAURENT&quot;</td><td>&quot;83500&quot;</td><td>&quot;La Seyne-sur-M…</td><td>86.0</td><td>15.0</td><td>30.0</td></tr><tr><td>&quot;CONTROLE TECHN…</td><td>&quot;LE VIGNELONGUE…</td><td>&quot;83500&quot;</td><td>&quot;La Seyne-sur-M…</td><td>86.0</td><td>10.0</td><td>33.0</td></tr><tr><td>&quot;ROLLY-CONTROLE…</td><td>&quot;525 CHE DE LA …</td><td>&quot;83500&quot;</td><td>&quot;La Seyne-sur-M…</td><td>88.0</td><td>10.0</td><td>40.0</td></tr><tr><td>&quot;C.T HERMITTE S…</td><td>&quot;CAMP LAURENT&quot;</td><td>&quot;83500&quot;</td><td>&quot;La Seyne-sur-M…</td><td>90.0</td><td>15.0</td><td>30.0</td></tr><tr><td>&quot;ROLLY-CONTROLE…</td><td>&quot;525 CHE DE LA …</td><td>&quot;83500&quot;</td><td>&quot;La Seyne-sur-M…</td><td>94.0</td><td>10.0</td><td>40.0</td></tr><tr><td>&quot;AUTO CONTROLE …</td><td>&quot;39 RUE LOUIS M…</td><td>&quot;83500&quot;</td><td>&quot;La Seyne-sur-M…</td><td>95.0</td><td>10.0</td><td>30.0</td></tr><tr><td>&quot;C.T HERMITTE S…</td><td>&quot;CAMP LAURENT&quot;</td><td>&quot;83500&quot;</td><td>&quot;La Seyne-sur-M…</td><td>95.0</td><td>15.0</td><td>30.0</td></tr><tr><td>&quot;CONTROLE TECHN…</td><td>&quot;LE VIGNELONGUE…</td><td>&quot;83500&quot;</td><td>&quot;La Seyne-sur-M…</td><td>95.0</td><td>10.0</td><td>33.0</td></tr><tr><td>&quot;SIX FOURS AUTO…</td><td>&quot;199 AV PABLO N…</td><td>&quot;83500&quot;</td><td>&quot;La Seyne-sur-M…</td><td>95.0</td><td>15.0</td><td>30.0</td></tr><tr><td>&quot;C.T HERMITTE S…</td><td>&quot;CAMP LAURENT&quot;</td><td>&quot;83500&quot;</td><td>&quot;La Seyne-sur-M…</td><td>100.0</td><td>15.0</td><td>30.0</td></tr><tr><td>&quot;CONTROLE TECHN…</td><td>&quot;LE VIGNELONGUE…</td><td>&quot;83500&quot;</td><td>&quot;La Seyne-sur-M…</td><td>105.0</td><td>10.0</td><td>33.0</td></tr></tbody></table></div>"
      ],
      "text/plain": [
       "shape: (14, 7)\n",
       "┌──────────────┬─────────────┬─────────────┬─────────────┬─────────────┬─────────────┬─────────────┐\n",
       "│ nom          ┆ adresse     ┆ code_postal ┆ commune     ┆ prix_visite ┆ prix_contre ┆ prix_contre │\n",
       "│ ---          ┆ ---         ┆ ---         ┆ ---         ┆ ---         ┆ _visite_min ┆ _visite_max │\n",
       "│ str          ┆ str         ┆ str         ┆ str         ┆ f64         ┆ ---         ┆ ---         │\n",
       "│              ┆             ┆             ┆             ┆             ┆ f64         ┆ f64         │\n",
       "╞══════════════╪═════════════╪═════════════╪═════════════╪═════════════╪═════════════╪═════════════╡\n",
       "│ C.T HERMITTE ┆ CAMP        ┆ 83500       ┆ La Seyne-su ┆ 82.0        ┆ 15.0        ┆ 30.0        │\n",
       "│ SARL         ┆ LAURENT     ┆             ┆ r-Mer       ┆             ┆             ┆             │\n",
       "│ AUTO         ┆ 39 RUE      ┆ 83500       ┆ La Seyne-su ┆ 85.0        ┆ 10.0        ┆ 30.0        │\n",
       "│ CONTROLE LES ┆ LOUIS       ┆             ┆ r-Mer       ┆             ┆             ┆             │\n",
       "│ SABLETTES    ┆ MARTIN      ┆             ┆             ┆             ┆             ┆             │\n",
       "│              ┆ BIDOURE     ┆             ┆             ┆             ┆             ┆             │\n",
       "│ SIX FOURS    ┆ 199 AV      ┆ 83500       ┆ La Seyne-su ┆ 85.0        ┆ 15.0        ┆ 30.0        │\n",
       "│ AUTO BILAN   ┆ PABLO       ┆             ┆ r-Mer       ┆             ┆             ┆             │\n",
       "│              ┆ NERUDA      ┆             ┆             ┆             ┆             ┆             │\n",
       "│ C.T HERMITTE ┆ CAMP        ┆ 83500       ┆ La Seyne-su ┆ 86.0        ┆ 15.0        ┆ 30.0        │\n",
       "│ SARL         ┆ LAURENT     ┆             ┆ r-Mer       ┆             ┆             ┆             │\n",
       "│ …            ┆ …           ┆ …           ┆ …           ┆ …           ┆ …           ┆ …           │\n",
       "│ CONTROLE     ┆ LE          ┆ 83500       ┆ La Seyne-su ┆ 95.0        ┆ 10.0        ┆ 33.0        │\n",
       "│ TECHNIQUE LA ┆ VIGNELONGUE ┆             ┆ r-Mer       ┆             ┆             ┆             │\n",
       "│ SEYNE CTLS   ┆             ┆             ┆             ┆             ┆             ┆             │\n",
       "│ SIX FOURS    ┆ 199 AV      ┆ 83500       ┆ La Seyne-su ┆ 95.0        ┆ 15.0        ┆ 30.0        │\n",
       "│ AUTO BILAN   ┆ PABLO       ┆             ┆ r-Mer       ┆             ┆             ┆             │\n",
       "│              ┆ NERUDA      ┆             ┆             ┆             ┆             ┆             │\n",
       "│ C.T HERMITTE ┆ CAMP        ┆ 83500       ┆ La Seyne-su ┆ 100.0       ┆ 15.0        ┆ 30.0        │\n",
       "│ SARL         ┆ LAURENT     ┆             ┆ r-Mer       ┆             ┆             ┆             │\n",
       "│ CONTROLE     ┆ LE          ┆ 83500       ┆ La Seyne-su ┆ 105.0       ┆ 10.0        ┆ 33.0        │\n",
       "│ TECHNIQUE LA ┆ VIGNELONGUE ┆             ┆ r-Mer       ┆             ┆             ┆             │\n",
       "│ SEYNE CTLS   ┆             ┆             ┆             ┆             ┆             ┆             │\n",
       "└──────────────┴─────────────┴─────────────┴─────────────┴─────────────┴─────────────┴─────────────┘"
      ]
     },
     "execution_count": 20,
     "metadata": {},
     "output_type": "execute_result"
    }
   ],
   "source": [
    "# Affichage des données\n",
    "df = pl.DataFrame(data['results'])\n",
    "df"
   ]
  }
 ],
 "metadata": {
  "kernelspec": {
   "display_name": ".venv",
   "language": "python",
   "name": "python3"
  },
  "language_info": {
   "codemirror_mode": {
    "name": "ipython",
    "version": 3
   },
   "file_extension": ".py",
   "mimetype": "text/x-python",
   "name": "python",
   "nbconvert_exporter": "python",
   "pygments_lexer": "ipython3",
   "version": "3.9.2"
  }
 },
 "nbformat": 4,
 "nbformat_minor": 2
}
