{
 "cells": [
  {
   "cell_type": "markdown",
   "metadata": {},
   "source": [
    "# [Zone d'Aide à Finalité Régionale](https://www.data.gouv.fr/fr/datasets/zones-daide-a-finalite-regionale-afr/)\n",
    "\n",
    "Liste des communes éligibles au dispositif \"Aide à finalité régionale\" pour la période 2022 - 2027\n",
    "\n",
    "Date :  <br>\n",
    "Éditeur : <b>Laurent REYNAUD</b>"
   ]
  },
  {
   "cell_type": "code",
   "execution_count": 72,
   "metadata": {},
   "outputs": [],
   "source": [
    "import pandas as pd"
   ]
  },
  {
   "cell_type": "code",
   "execution_count": 105,
   "metadata": {},
   "outputs": [
    {
     "data": {
      "text/html": [
       "<div>\n",
       "<style scoped>\n",
       "    .dataframe tbody tr th:only-of-type {\n",
       "        vertical-align: middle;\n",
       "    }\n",
       "\n",
       "    .dataframe tbody tr th {\n",
       "        vertical-align: top;\n",
       "    }\n",
       "\n",
       "    .dataframe thead th {\n",
       "        text-align: right;\n",
       "    }\n",
       "</style>\n",
       "<table border=\"1\" class=\"dataframe\">\n",
       "  <thead>\n",
       "    <tr style=\"text-align: right;\">\n",
       "      <th></th>\n",
       "      <th>insee_com</th>\n",
       "      <th>lib_com</th>\n",
       "      <th>classement_afr</th>\n",
       "      <th>N°</th>\n",
       "    </tr>\n",
       "  </thead>\n",
       "  <tbody>\n",
       "    <tr>\n",
       "      <th>0</th>\n",
       "      <td>1014</td>\n",
       "      <td>Arbent</td>\n",
       "      <td>intégralement</td>\n",
       "      <td>01014</td>\n",
       "    </tr>\n",
       "    <tr>\n",
       "      <th>1</th>\n",
       "      <td>1031</td>\n",
       "      <td>Bellignat</td>\n",
       "      <td>intégralement</td>\n",
       "      <td>01031</td>\n",
       "    </tr>\n",
       "    <tr>\n",
       "      <th>2</th>\n",
       "      <td>1058</td>\n",
       "      <td>Brégnier-Cordon</td>\n",
       "      <td>intégralement</td>\n",
       "      <td>01058</td>\n",
       "    </tr>\n",
       "  </tbody>\n",
       "</table>\n",
       "</div>"
      ],
      "text/plain": [
       "  insee_com          lib_com classement_afr     N°\n",
       "0      1014           Arbent  intégralement  01014\n",
       "1      1031        Bellignat  intégralement  01031\n",
       "2      1058  Brégnier-Cordon  intégralement  01058"
      ]
     },
     "execution_count": 105,
     "metadata": {},
     "output_type": "execute_result"
    }
   ],
   "source": [
    "# Récupération du fichier .csv exporté du site open data, \n",
    "# converti en df pandas\n",
    "city_df = pd.read_csv('data/afr_2022.csv', sep=\";\", encoding='latin-1')\n",
    "city_df.head(3)"
   ]
  },
  {
   "cell_type": "code",
   "execution_count": 106,
   "metadata": {},
   "outputs": [
    {
     "data": {
      "text/html": [
       "<div>\n",
       "<style scoped>\n",
       "    .dataframe tbody tr th:only-of-type {\n",
       "        vertical-align: middle;\n",
       "    }\n",
       "\n",
       "    .dataframe tbody tr th {\n",
       "        vertical-align: top;\n",
       "    }\n",
       "\n",
       "    .dataframe thead th {\n",
       "        text-align: right;\n",
       "    }\n",
       "</style>\n",
       "<table border=\"1\" class=\"dataframe\">\n",
       "  <thead>\n",
       "    <tr style=\"text-align: right;\">\n",
       "      <th></th>\n",
       "      <th>N°</th>\n",
       "      <th>Département</th>\n",
       "      <th>Chef-lieu</th>\n",
       "      <th>Région</th>\n",
       "    </tr>\n",
       "  </thead>\n",
       "  <tbody>\n",
       "    <tr>\n",
       "      <th>0</th>\n",
       "      <td>01</td>\n",
       "      <td>Ain</td>\n",
       "      <td>Bourg-en-Bresse</td>\n",
       "      <td>Auvergne-Rhône-Alpes</td>\n",
       "    </tr>\n",
       "    <tr>\n",
       "      <th>1</th>\n",
       "      <td>02</td>\n",
       "      <td>Aisne</td>\n",
       "      <td>Laon</td>\n",
       "      <td>Hauts-de-France</td>\n",
       "    </tr>\n",
       "    <tr>\n",
       "      <th>2</th>\n",
       "      <td>03</td>\n",
       "      <td>Allier</td>\n",
       "      <td>Moulins</td>\n",
       "      <td>Auvergne-Rhône-Alpes</td>\n",
       "    </tr>\n",
       "  </tbody>\n",
       "</table>\n",
       "</div>"
      ],
      "text/plain": [
       "   N° Département        Chef-lieu                Région\n",
       "0  01         Ain  Bourg-en-Bresse  Auvergne-Rhône-Alpes\n",
       "1  02       Aisne             Laon       Hauts-de-France\n",
       "2  03      Allier          Moulins  Auvergne-Rhône-Alpes"
      ]
     },
     "execution_count": 106,
     "metadata": {},
     "output_type": "execute_result"
    }
   ],
   "source": [
    "# Récupération du fichier .csv des données récupérées sur les départements,\n",
    "# converti en df pandas\n",
    "district_df = pd.read_csv(\n",
    "    'data/departement_afr.csv', encoding='unicode_escape', sep=\";\")\n",
    "district_df.head(3)"
   ]
  },
  {
   "cell_type": "code",
   "execution_count": 107,
   "metadata": {},
   "outputs": [
    {
     "data": {
      "text/html": [
       "<div>\n",
       "<style scoped>\n",
       "    .dataframe tbody tr th:only-of-type {\n",
       "        vertical-align: middle;\n",
       "    }\n",
       "\n",
       "    .dataframe tbody tr th {\n",
       "        vertical-align: top;\n",
       "    }\n",
       "\n",
       "    .dataframe thead th {\n",
       "        text-align: right;\n",
       "    }\n",
       "</style>\n",
       "<table border=\"1\" class=\"dataframe\">\n",
       "  <thead>\n",
       "    <tr style=\"text-align: right;\">\n",
       "      <th></th>\n",
       "      <th>insee_com</th>\n",
       "      <th>lib_com</th>\n",
       "      <th>classement_afr</th>\n",
       "      <th>N°</th>\n",
       "      <th>Département</th>\n",
       "      <th>Chef-lieu</th>\n",
       "      <th>Région</th>\n",
       "    </tr>\n",
       "  </thead>\n",
       "  <tbody>\n",
       "    <tr>\n",
       "      <th>0</th>\n",
       "      <td>10003</td>\n",
       "      <td>Aix-Villemaur-Pâlis</td>\n",
       "      <td>intégralement</td>\n",
       "      <td>10</td>\n",
       "      <td>Aube</td>\n",
       "      <td>Troyes</td>\n",
       "      <td>Grand Est</td>\n",
       "    </tr>\n",
       "    <tr>\n",
       "      <th>1</th>\n",
       "      <td>10005</td>\n",
       "      <td>Amance</td>\n",
       "      <td>intégralement</td>\n",
       "      <td>10</td>\n",
       "      <td>Aube</td>\n",
       "      <td>Troyes</td>\n",
       "      <td>Grand Est</td>\n",
       "    </tr>\n",
       "    <tr>\n",
       "      <th>2</th>\n",
       "      <td>10006</td>\n",
       "      <td>Arcis-sur-Aube</td>\n",
       "      <td>intégralement</td>\n",
       "      <td>10</td>\n",
       "      <td>Aube</td>\n",
       "      <td>Troyes</td>\n",
       "      <td>Grand Est</td>\n",
       "    </tr>\n",
       "  </tbody>\n",
       "</table>\n",
       "</div>"
      ],
      "text/plain": [
       "  insee_com              lib_com classement_afr  N° Département Chef-lieu  \\\n",
       "0     10003  Aix-Villemaur-Pâlis  intégralement  10        Aube    Troyes   \n",
       "1     10005               Amance  intégralement  10        Aube    Troyes   \n",
       "2     10006       Arcis-sur-Aube  intégralement  10        Aube    Troyes   \n",
       "\n",
       "      Région  \n",
       "0  Grand Est  \n",
       "1  Grand Est  \n",
       "2  Grand Est  "
      ]
     },
     "execution_count": 107,
     "metadata": {},
     "output_type": "execute_result"
    }
   ],
   "source": [
    "# Fusion des deux fichiers ci-avant\n",
    "afr_df = city_df.merge(district_df, on='N°')\n",
    "afr_df.head(3)"
   ]
  },
  {
   "cell_type": "code",
   "execution_count": 108,
   "metadata": {},
   "outputs": [],
   "source": [
    "# Renommage de champs\n",
    "afr_df.rename(columns={\n",
    "    'lib_com':'Commune', 'classement_afr':'AFR',\n",
    "    'N°':'N° de département'}, inplace=True)"
   ]
  },
  {
   "cell_type": "code",
   "execution_count": 109,
   "metadata": {},
   "outputs": [
    {
     "data": {
      "text/html": [
       "<div>\n",
       "<style scoped>\n",
       "    .dataframe tbody tr th:only-of-type {\n",
       "        vertical-align: middle;\n",
       "    }\n",
       "\n",
       "    .dataframe tbody tr th {\n",
       "        vertical-align: top;\n",
       "    }\n",
       "\n",
       "    .dataframe thead th {\n",
       "        text-align: right;\n",
       "    }\n",
       "</style>\n",
       "<table border=\"1\" class=\"dataframe\">\n",
       "  <thead>\n",
       "    <tr style=\"text-align: right;\">\n",
       "      <th></th>\n",
       "      <th>Commune</th>\n",
       "      <th>N° de département</th>\n",
       "      <th>Département</th>\n",
       "      <th>Région</th>\n",
       "      <th>AFR</th>\n",
       "    </tr>\n",
       "  </thead>\n",
       "  <tbody>\n",
       "    <tr>\n",
       "      <th>0</th>\n",
       "      <td>Aix-Villemaur-Pâlis</td>\n",
       "      <td>10</td>\n",
       "      <td>Aube</td>\n",
       "      <td>Grand Est</td>\n",
       "      <td>intégralement</td>\n",
       "    </tr>\n",
       "    <tr>\n",
       "      <th>1</th>\n",
       "      <td>Amance</td>\n",
       "      <td>10</td>\n",
       "      <td>Aube</td>\n",
       "      <td>Grand Est</td>\n",
       "      <td>intégralement</td>\n",
       "    </tr>\n",
       "    <tr>\n",
       "      <th>2</th>\n",
       "      <td>Arcis-sur-Aube</td>\n",
       "      <td>10</td>\n",
       "      <td>Aube</td>\n",
       "      <td>Grand Est</td>\n",
       "      <td>intégralement</td>\n",
       "    </tr>\n",
       "  </tbody>\n",
       "</table>\n",
       "</div>"
      ],
      "text/plain": [
       "               Commune N° de département Département     Région            AFR\n",
       "0  Aix-Villemaur-Pâlis                10        Aube  Grand Est  intégralement\n",
       "1               Amance                10        Aube  Grand Est  intégralement\n",
       "2       Arcis-sur-Aube                10        Aube  Grand Est  intégralement"
      ]
     },
     "execution_count": 109,
     "metadata": {},
     "output_type": "execute_result"
    }
   ],
   "source": [
    "# Sélection des champs à afficher\n",
    "afr_df = afr_df[[\n",
    "    'Commune', 'N° de département', 'Département', 'Région', 'AFR', ]]\n",
    "afr_df.head(3)"
   ]
  },
  {
   "cell_type": "code",
   "execution_count": 114,
   "metadata": {},
   "outputs": [
    {
     "data": {
      "text/html": [
       "<div>\n",
       "<style scoped>\n",
       "    .dataframe tbody tr th:only-of-type {\n",
       "        vertical-align: middle;\n",
       "    }\n",
       "\n",
       "    .dataframe tbody tr th {\n",
       "        vertical-align: top;\n",
       "    }\n",
       "\n",
       "    .dataframe thead th {\n",
       "        text-align: right;\n",
       "    }\n",
       "</style>\n",
       "<table border=\"1\" class=\"dataframe\">\n",
       "  <thead>\n",
       "    <tr style=\"text-align: right;\">\n",
       "      <th></th>\n",
       "      <th>Commune</th>\n",
       "      <th>N° de département</th>\n",
       "      <th>Département</th>\n",
       "      <th>Région</th>\n",
       "      <th>AFR</th>\n",
       "    </tr>\n",
       "  </thead>\n",
       "  <tbody>\n",
       "    <tr>\n",
       "      <th>4357</th>\n",
       "      <td>Belfonds</td>\n",
       "      <td>61</td>\n",
       "      <td>Orne</td>\n",
       "      <td>Normandie</td>\n",
       "      <td>intégralement</td>\n",
       "    </tr>\n",
       "    <tr>\n",
       "      <th>5044</th>\n",
       "      <td>Belfahy</td>\n",
       "      <td>70</td>\n",
       "      <td>Haute-Saône</td>\n",
       "      <td>Bourgogne-Franche-Comté</td>\n",
       "      <td>intégralement</td>\n",
       "    </tr>\n",
       "    <tr>\n",
       "      <th>6260</th>\n",
       "      <td>Belfort</td>\n",
       "      <td>90</td>\n",
       "      <td>Territoire-de-Belfort</td>\n",
       "      <td>Bourgogne-Franche-Comté</td>\n",
       "      <td>intégralement</td>\n",
       "    </tr>\n",
       "  </tbody>\n",
       "</table>\n",
       "</div>"
      ],
      "text/plain": [
       "       Commune N° de département            Département  \\\n",
       "4357  Belfonds                61                   Orne   \n",
       "5044   Belfahy                70            Haute-Saône   \n",
       "6260   Belfort                90  Territoire-de-Belfort   \n",
       "\n",
       "                       Région            AFR  \n",
       "4357                Normandie  intégralement  \n",
       "5044  Bourgogne-Franche-Comté  intégralement  \n",
       "6260  Bourgogne-Franche-Comté  intégralement  "
      ]
     },
     "execution_count": 114,
     "metadata": {},
     "output_type": "execute_result"
    }
   ],
   "source": [
    "# Vérification si telle commune est éligible à la zone d'AFR\n",
    "city = input(\"Nom de la commune : \")\n",
    "afr_df[afr_df['Commune'].str.contains(f'^{city}', case=False)]"
   ]
  }
 ],
 "metadata": {
  "kernelspec": {
   "display_name": ".venv",
   "language": "python",
   "name": "python3"
  },
  "language_info": {
   "codemirror_mode": {
    "name": "ipython",
    "version": 3
   },
   "file_extension": ".py",
   "mimetype": "text/x-python",
   "name": "python",
   "nbconvert_exporter": "python",
   "pygments_lexer": "ipython3",
   "version": "3.9.2"
  }
 },
 "nbformat": 4,
 "nbformat_minor": 2
}
