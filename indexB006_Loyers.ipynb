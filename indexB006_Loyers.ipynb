{
 "cells": [
  {
   "cell_type": "markdown",
   "metadata": {},
   "source": [
    "# Test des données récupérées par API\n",
    "\n",
    "Ce fichier prend en compte les requêtes pour l'appel API\n",
    "\n",
    "À travailler : https://opendata.paris.fr/explore/dataset/logement-encadrement-des-loyers/api/?disjunctive.annee&disjunctive.id_zone&disjunctive.nom_quartier&disjunctive.piece&disjunctive.epoque&disjunctive.meuble_txt\n",
    "\n",
    "Objet du traitement : encadrement du loyer à Paris\n",
    "\n",
    "Date : 04-01-2024 <br>\n",
    "Éditeur : <b>Laurent REYNAUD</b>"
   ]
  },
  {
   "cell_type": "code",
   "execution_count": 2,
   "metadata": {},
   "outputs": [],
   "source": [
    "import requests\n",
    "import json\n",
    "import polars as pl"
   ]
  },
  {
   "cell_type": "markdown",
   "metadata": {},
   "source": [
    "### URL API :"
   ]
  },
  {
   "cell_type": "code",
   "execution_count": 3,
   "metadata": {},
   "outputs": [],
   "source": [
    "url_api = \"/api/explore/v2.1/catalog/datasets/logement-encadrement-des-loyers/records?limit=20\""
   ]
  },
  {
   "cell_type": "markdown",
   "metadata": {},
   "source": [
    "### Variables à saisir avec les requêtes SQL WHERE / LIMIT... ci-après :"
   ]
  },
  {
   "cell_type": "code",
   "execution_count": null,
   "metadata": {},
   "outputs": [],
   "source": [
    "year = ['2019', '2020', '2021', '2022', '2023'] # donnée \"annee\"\n",
    "geo = [1, 2, 3, 4, 5, 6, 7, 8, 9, 10, 11, 12, 13, 14] # donnée 'id_zone'\n",
    "districts = pl.read_csv('data/districts.csv') # donnée 'nom_quartier'\n",
    "rooms = [1, 2, 3, 4] # donnée 'piece'\n",
    "period = [\"Avant 1946\", \"1946-1970\", \"1971-1990\", \"Apres 1990\"] # donnée 'epoque'\n",
    "furnished = [\"meublé\", \"non meublé\"] # donnée 'meuble_txt'\n"
   ]
  },
  {
   "cell_type": "markdown",
   "metadata": {},
   "source": [
    "### Requête SQL avec SELECT :"
   ]
  },
  {
   "cell_type": "markdown",
   "metadata": {},
   "source": []
  },
  {
   "cell_type": "markdown",
   "metadata": {},
   "source": [
    "### Requête SQL avec WHERE :"
   ]
  },
  {
   "cell_type": "markdown",
   "metadata": {},
   "source": [
    "code_postal='34080'"
   ]
  },
  {
   "cell_type": "markdown",
   "metadata": {},
   "source": [
    "### Requête SQL avec GROUP_BY :"
   ]
  },
  {
   "cell_type": "markdown",
   "metadata": {},
   "source": [
    "cct_denomination AS nom, cct_adresse AS adresse, code_postal, cct_code_commune AS commune, prix_visite, prix_contre_visite_min, prix_contre_visite_max"
   ]
  },
  {
   "cell_type": "markdown",
   "metadata": {},
   "source": [
    "### Requête SQL avec ORDER BY :"
   ]
  },
  {
   "cell_type": "markdown",
   "metadata": {},
   "source": [
    "prix_visite"
   ]
  },
  {
   "cell_type": "markdown",
   "metadata": {},
   "source": [
    "### Requête SQL avec LIMIT :"
   ]
  },
  {
   "cell_type": "markdown",
   "metadata": {},
   "source": [
    "100"
   ]
  },
  {
   "cell_type": "markdown",
   "metadata": {},
   "source": [
    "### Intervention sur python"
   ]
  },
  {
   "cell_type": "code",
   "execution_count": 16,
   "metadata": {},
   "outputs": [],
   "source": [
    "# Accès à l'URL avec le requêtage appliqué : \n",
    "url = f\"https://data.economie.gouv.fr/api/explore/v2.1/catalog/datasets/controle_techn/records?where=code_postal%3D%27{code_postal}%27&group_by=cct_denomination%20AS%20nom%2C%20cct_adresse%20AS%20adresse%2C%20code_postal%2C%20cct_code_commune%20AS%20commune%2C%20prix_visite%2C%20prix_contre_visite_min%2C%20prix_contre_visite_max&order_by=prix_visite&limit={limit}\""
   ]
  },
  {
   "cell_type": "code",
   "execution_count": 3,
   "metadata": {},
   "outputs": [],
   "source": [
    "# Requête url\n",
    "response = requests.get(url)"
   ]
  },
  {
   "cell_type": "code",
   "execution_count": 4,
   "metadata": {},
   "outputs": [
    {
     "data": {
      "text/plain": [
       "200"
      ]
     },
     "execution_count": 4,
     "metadata": {},
     "output_type": "execute_result"
    }
   ],
   "source": [
    "# Code statut html\n",
    "response.status_code"
   ]
  },
  {
   "cell_type": "code",
   "execution_count": 5,
   "metadata": {},
   "outputs": [],
   "source": [
    "# Récupération du contenu au format json\n",
    "data = json.loads(response.content)"
   ]
  },
  {
   "cell_type": "code",
   "execution_count": 15,
   "metadata": {},
   "outputs": [],
   "source": [
    "# Affichage des données\n",
    "df = pl.DataFrame(data['results'])\n"
   ]
  }
 ],
 "metadata": {
  "kernelspec": {
   "display_name": ".venv",
   "language": "python",
   "name": "python3"
  },
  "language_info": {
   "codemirror_mode": {
    "name": "ipython",
    "version": 3
   },
   "file_extension": ".py",
   "mimetype": "text/x-python",
   "name": "python",
   "nbconvert_exporter": "python",
   "pygments_lexer": "ipython3",
   "version": "3.9.2"
  }
 },
 "nbformat": 4,
 "nbformat_minor": 2
}
