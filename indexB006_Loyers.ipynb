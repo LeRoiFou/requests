{
 "cells": [
  {
   "cell_type": "markdown",
   "metadata": {},
   "source": [
    "# Test des données récupérées par API\n",
    "\n",
    "[Encodage-pourcent](https://fr.wikipedia.org/wiki/Encodage-pourcent)\n",
    "\n",
    "Ce fichier prend en compte les requêtes pour l'appel API\n",
    "\n",
    "À travailler : https://opendata.paris.fr/explore/dataset/logement-encadrement-des-loyers/api/?disjunctive.annee&disjunctive.id_zone&disjunctive.nom_quartier&disjunctive.piece&disjunctive.epoque&disjunctive.meuble_txt\n",
    "\n",
    "Objet du traitement : encadrement du loyer à Paris\n",
    "\n",
    "Date : 04-01-2024 <br>\n",
    "Éditeur : <b>Laurent REYNAUD</b>"
   ]
  },
  {
   "cell_type": "code",
   "execution_count": 1,
   "metadata": {},
   "outputs": [],
   "source": [
    "import requests\n",
    "import json\n",
    "import polars as pl"
   ]
  },
  {
   "cell_type": "markdown",
   "metadata": {},
   "source": [
    "### URL API :"
   ]
  },
  {
   "cell_type": "code",
   "execution_count": 3,
   "metadata": {},
   "outputs": [],
   "source": [
    "url_api = \"/api/explore/v2.1/catalog/datasets/logement-encadrement-des-loyers/records?limit=20\""
   ]
  },
  {
   "cell_type": "markdown",
   "metadata": {},
   "source": [
    "### Variables à saisir avec les requêtes SQL WHERE / LIMIT... ci-après :"
   ]
  },
  {
   "cell_type": "code",
   "execution_count": 75,
   "metadata": {},
   "outputs": [],
   "source": [
    "year = ['2019', '2020', '2021', '2022', '2023'] # donnée \"annee\"\n",
    "# geo = [1, 2, 3, 4, 5, 6, 7, 8, 9, 10, 11, 12, 13, 14] # donnée 'id_zone'\n",
    "df_districts = pl.read_csv('data/districts.csv') # donnée 'nom_quartier'\n",
    "list_districts = df_districts.to_numpy().tolist() # conversion df en liste\n",
    "districts = [district for list_district in list_districts\n",
    "             for district in list_district]\n",
    "rooms = ['1', '2', '3', '4'] # donnée 'piece'\n",
    "period = [\"Avant 1946\", \"1946-1970\", \"1971-1990\", \"Apres 1990\"] # donnée 'epoque'\n",
    "furnished = [\"meublé\", \"non meublé\"] # donnée 'meuble_txt'"
   ]
  },
  {
   "cell_type": "markdown",
   "metadata": {},
   "source": [
    "### Requête SQL avec SELECT :"
   ]
  },
  {
   "cell_type": "markdown",
   "metadata": {},
   "source": [
    "annee, nom_quartier, piece, epoque, meuble_txt, ref, min, max"
   ]
  },
  {
   "cell_type": "markdown",
   "metadata": {},
   "source": [
    "### Requête SQL avec WHERE :"
   ]
  },
  {
   "cell_type": "markdown",
   "metadata": {},
   "source": [
    "annee=2022 and nom_quartier=\"Madeleine\" and piece=1 and epoque=\"Apres 1990\" and meuble_txt=\"non meublé\""
   ]
  },
  {
   "cell_type": "markdown",
   "metadata": {},
   "source": [
    "### Requête SQL avec GROUP_BY :"
   ]
  },
  {
   "cell_type": "markdown",
   "metadata": {},
   "source": []
  },
  {
   "cell_type": "markdown",
   "metadata": {},
   "source": [
    "### Requête SQL avec ORDER BY :"
   ]
  },
  {
   "cell_type": "markdown",
   "metadata": {},
   "source": [
    "ref"
   ]
  },
  {
   "cell_type": "markdown",
   "metadata": {},
   "source": [
    "### Requête SQL avec LIMIT :"
   ]
  },
  {
   "cell_type": "markdown",
   "metadata": {},
   "source": [
    "100"
   ]
  },
  {
   "cell_type": "markdown",
   "metadata": {},
   "source": [
    "### Intervention sur python"
   ]
  },
  {
   "cell_type": "code",
   "execution_count": 92,
   "metadata": {},
   "outputs": [],
   "source": [
    "# Accès à l'URL avec le requêtage appliqué : \n",
    "# url = \"https://opendata.paris.fr/api/explore/v2.1/catalog/datasets/logement-encadrement-des-loyers/records?select=annee%2C%20id_zone%2C%20nom_quartier%2C%20piece%2C%20epoque%2C%20meuble_txt%2C%20ref%2C%20min%2C%20max&where=annee%3D2022%20and%20nom_quartier%3D%22Madeleine%22%20and%20piece%3D1%20and%20epoque%3D%22Apres%201990%22%20and%20meuble_txt%3D%22non%20meubl%C3%A9%22&order_by=ref&limit=100\"\n",
    "url = f\"https://opendata.paris.fr/api/explore/v2.1/catalog/datasets/logement-encadrement-des-loyers/records?select=annee%2C%20nom_quartier%2C%20piece%2C%20epoque%2C%20meuble_txt%2C%20ref%2C%20min%2C%20max&where=annee%3D{year[3]}%20and%20nom_quartier%3D%22{districts[5]}%22%20and%20piece%3D{rooms[1]}%20and%20epoque%3D%22{period[2]}%22%20and%20meuble_txt%3D%22{furnished[1]}%22&order_by=ref&limit=100\""
   ]
  },
  {
   "cell_type": "code",
   "execution_count": 93,
   "metadata": {},
   "outputs": [],
   "source": [
    "# Requête url\n",
    "response = requests.get(url)"
   ]
  },
  {
   "cell_type": "code",
   "execution_count": 94,
   "metadata": {},
   "outputs": [
    {
     "data": {
      "text/plain": [
       "200"
      ]
     },
     "execution_count": 94,
     "metadata": {},
     "output_type": "execute_result"
    }
   ],
   "source": [
    "# Code statut html\n",
    "response.status_code"
   ]
  },
  {
   "cell_type": "code",
   "execution_count": 95,
   "metadata": {},
   "outputs": [],
   "source": [
    "# Récupération du contenu au format json\n",
    "data = json.loads(response.content)"
   ]
  },
  {
   "cell_type": "code",
   "execution_count": 96,
   "metadata": {},
   "outputs": [],
   "source": [
    "# Affichage des données\n",
    "df = pl.DataFrame(data['results'])\n"
   ]
  },
  {
   "cell_type": "code",
   "execution_count": 97,
   "metadata": {},
   "outputs": [
    {
     "data": {
      "text/html": [
       "<div><style>\n",
       ".dataframe > thead > tr,\n",
       ".dataframe > tbody > tr {\n",
       "  text-align: right;\n",
       "  white-space: pre-wrap;\n",
       "}\n",
       "</style>\n",
       "<small>shape: (1, 9)</small><table border=\"1\" class=\"dataframe\"><thead><tr><th>annee</th><th>id_zone</th><th>nom_quartier</th><th>piece</th><th>epoque</th><th>meuble_txt</th><th>ref</th><th>min</th><th>max</th></tr><tr><td>str</td><td>i64</td><td>str</td><td>i64</td><td>str</td><td>str</td><td>f64</td><td>f64</td><td>f64</td></tr></thead><tbody><tr><td>&quot;2022&quot;</td><td>10</td><td>&quot;Batignolles&quot;</td><td>2</td><td>&quot;1971-1990&quot;</td><td>&quot;non meublé&quot;</td><td>23.1</td><td>16.17</td><td>27.72</td></tr></tbody></table></div>"
      ],
      "text/plain": [
       "shape: (1, 9)\n",
       "┌───────┬─────────┬──────────────┬───────┬───┬────────────┬──────┬───────┬───────┐\n",
       "│ annee ┆ id_zone ┆ nom_quartier ┆ piece ┆ … ┆ meuble_txt ┆ ref  ┆ min   ┆ max   │\n",
       "│ ---   ┆ ---     ┆ ---          ┆ ---   ┆   ┆ ---        ┆ ---  ┆ ---   ┆ ---   │\n",
       "│ str   ┆ i64     ┆ str          ┆ i64   ┆   ┆ str        ┆ f64  ┆ f64   ┆ f64   │\n",
       "╞═══════╪═════════╪══════════════╪═══════╪═══╪════════════╪══════╪═══════╪═══════╡\n",
       "│ 2022  ┆ 10      ┆ Batignolles  ┆ 2     ┆ … ┆ non meublé ┆ 23.1 ┆ 16.17 ┆ 27.72 │\n",
       "└───────┴─────────┴──────────────┴───────┴───┴────────────┴──────┴───────┴───────┘"
      ]
     },
     "execution_count": 97,
     "metadata": {},
     "output_type": "execute_result"
    }
   ],
   "source": [
    "df"
   ]
  }
 ],
 "metadata": {
  "kernelspec": {
   "display_name": ".venv",
   "language": "python",
   "name": "python3"
  },
  "language_info": {
   "codemirror_mode": {
    "name": "ipython",
    "version": 3
   },
   "file_extension": ".py",
   "mimetype": "text/x-python",
   "name": "python",
   "nbconvert_exporter": "python",
   "pygments_lexer": "ipython3",
   "version": "3.9.2"
  }
 },
 "nbformat": 4,
 "nbformat_minor": 2
}
