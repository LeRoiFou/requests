{
 "cells": [
  {
   "cell_type": "markdown",
   "metadata": {},
   "source": [
    "[Emploi par zone](https://www.data.gouv.fr/fr/datasets/effectifs-salaries-et-masse-salariale-trimestriels-du-secteur-prive-par-zone-demploi/)\n",
    "\n",
    "Date : 24-01-24 <br>\n",
    "Éditeur : Laurent Reynaud"
   ]
  },
  {
   "cell_type": "code",
   "execution_count": 44,
   "metadata": {},
   "outputs": [],
   "source": [
    "import polars as pl"
   ]
  },
  {
   "cell_type": "code",
   "execution_count": 45,
   "metadata": {},
   "outputs": [],
   "source": [
    "job_df = pl.scan_csv('data/emploi.csv', separator=\";\")"
   ]
  },
  {
   "cell_type": "code",
   "execution_count": 46,
   "metadata": {},
   "outputs": [],
   "source": [
    "# Export des zones\n",
    "region_df = (job_df.select(['libelle_zone_d_emploi', 'zone_d_emploi'])\n",
    "             .unique().sort( by='libelle_zone_d_emploi').collect()\n",
    "             .write_csv('data/emploi_zones.csv'))"
   ]
  },
  {
   "cell_type": "code",
   "execution_count": 47,
   "metadata": {},
   "outputs": [],
   "source": [
    "# Export des régions\n",
    "area_df = (job_df.select(['libelle_zone_d_emploi', 'region'])\n",
    "             .unique().sort( by='libelle_zone_d_emploi').collect()\n",
    "             .write_csv('data/emploi_regions.csv'))"
   ]
  },
  {
   "cell_type": "code",
   "execution_count": 48,
   "metadata": {},
   "outputs": [],
   "source": [
    "# Champs à conserver\n",
    "job_s1 = job_df.select(\n",
    "    \"annee\", \"trimestre\", \"region\", \"zone_d_emploi\",\n",
    "    \"effectifs_salaries_cvs\", \"masse_salariale_cvs\").sort(\n",
    "        by=['annee', 'trimestre'])"
   ]
  },
  {
   "cell_type": "code",
   "execution_count": 49,
   "metadata": {},
   "outputs": [],
   "source": [
    "# Filtre sur le champ 'annee'\n",
    "job_f1 = job_s1.filter(\n",
    "    pl.col('annee') > 2013)"
   ]
  },
  {
   "cell_type": "code",
   "execution_count": 50,
   "metadata": {},
   "outputs": [
    {
     "data": {
      "text/html": [
       "<div><style>\n",
       ".dataframe > thead > tr,\n",
       ".dataframe > tbody > tr {\n",
       "  text-align: right;\n",
       "  white-space: pre-wrap;\n",
       "}\n",
       "</style>\n",
       "<small>shape: (13_520, 6)</small><table border=\"1\" class=\"dataframe\"><thead><tr><th>annee</th><th>trimestre</th><th>region</th><th>zone_d_emploi</th><th>effectifs_salaries_cvs</th><th>masse_salariale_cvs</th></tr><tr><td>i64</td><td>i64</td><td>str</td><td>str</td><td>i64</td><td>i64</td></tr></thead><tbody><tr><td>2014</td><td>1</td><td>&quot;Normandie&quot;</td><td>&quot;Vire Normandie…</td><td>11681</td><td>62866639</td></tr><tr><td>2014</td><td>1</td><td>&quot;Hauts-de-Franc…</td><td>&quot;Amiens&quot;</td><td>90580</td><td>572711738</td></tr><tr><td>2014</td><td>1</td><td>&quot;Hauts-de-Franc…</td><td>&quot;Creil&quot;</td><td>61676</td><td>414840592</td></tr><tr><td>2014</td><td>1</td><td>&quot;Hauts-de-Franc…</td><td>&quot;Laon&quot;</td><td>18282</td><td>105843421</td></tr><tr><td>2014</td><td>1</td><td>&quot;Hauts-de-Franc…</td><td>&quot;Beauvais&quot;</td><td>59835</td><td>390362776</td></tr><tr><td>2014</td><td>1</td><td>&quot;Hauts-de-Franc…</td><td>&quot;La Vallée de l…</td><td>10599</td><td>66068554</td></tr><tr><td>2014</td><td>1</td><td>&quot;Hauts-de-Franc…</td><td>&quot;Dunkerque&quot;</td><td>70788</td><td>482783903</td></tr><tr><td>2014</td><td>1</td><td>&quot;Hauts-de-Franc…</td><td>&quot;Lille&quot;</td><td>324246</td><td>2255023170</td></tr><tr><td>2014</td><td>1</td><td>&quot;Grand Est&quot;</td><td>&quot;Chaumont&quot;</td><td>24789</td><td>151391665</td></tr><tr><td>2014</td><td>1</td><td>&quot;Grand Est&quot;</td><td>&quot;Épernay&quot;</td><td>18071</td><td>124099222</td></tr><tr><td>2014</td><td>1</td><td>&quot;Grand Est&quot;</td><td>&quot;Reims&quot;</td><td>89067</td><td>578216648</td></tr><tr><td>2014</td><td>1</td><td>&quot;Grand Est&quot;</td><td>&quot;Metz&quot;</td><td>125140</td><td>801119923</td></tr><tr><td>&hellip;</td><td>&hellip;</td><td>&hellip;</td><td>&hellip;</td><td>&hellip;</td><td>&hellip;</td></tr><tr><td>2023</td><td>3</td><td>&quot;Auvergne-Rhône…</td><td>&quot;Clermont-Ferra…</td><td>147684</td><td>1218048222</td></tr><tr><td>2023</td><td>3</td><td>&quot;Auvergne-Rhône…</td><td>&quot;Vichy&quot;</td><td>31942</td><td>226468929</td></tr><tr><td>2023</td><td>3</td><td>&quot;Provence-Alpes…</td><td>&quot;Briançon&quot;</td><td>9826</td><td>65450651</td></tr><tr><td>2023</td><td>3</td><td>&quot;Provence-Alpes…</td><td>&quot;Cannes&quot;</td><td>146323</td><td>1358556511</td></tr><tr><td>2023</td><td>3</td><td>&quot;Provence-Alpes…</td><td>&quot;Draguignan&quot;</td><td>21051</td><td>140417990</td></tr><tr><td>2023</td><td>3</td><td>&quot;Provence-Alpes…</td><td>&quot;Marseille&quot;</td><td>402227</td><td>3404668339</td></tr><tr><td>2023</td><td>3</td><td>&quot;Provence-Alpes…</td><td>&quot;Nice&quot;</td><td>183960</td><td>1441239848</td></tr><tr><td>2023</td><td>3</td><td>&quot;Provence-Alpes…</td><td>&quot;Orange&quot;</td><td>14970</td><td>106075948</td></tr><tr><td>2023</td><td>3</td><td>&quot;Provence-Alpes…</td><td>&quot;Toulon&quot;</td><td>140076</td><td>1039750685</td></tr><tr><td>2023</td><td>3</td><td>&quot;Provence-Alpes…</td><td>&quot;Arles&quot;</td><td>31352</td><td>232472228</td></tr><tr><td>2023</td><td>3</td><td>&quot;Corse&quot;</td><td>&quot;Ajaccio&quot;</td><td>31458</td><td>240744754</td></tr><tr><td>2023</td><td>3</td><td>&quot;Corse&quot;</td><td>&quot;Calvi&quot;</td><td>6189</td><td>42252578</td></tr></tbody></table></div>"
      ],
      "text/plain": [
       "shape: (13_520, 6)\n",
       "┌───────┬───────────┬────────────────────┬────────────────┬────────────────────┬───────────────────┐\n",
       "│ annee ┆ trimestre ┆ region             ┆ zone_d_emploi  ┆ effectifs_salaries ┆ masse_salariale_c │\n",
       "│ ---   ┆ ---       ┆ ---                ┆ ---            ┆ _cvs               ┆ vs                │\n",
       "│ i64   ┆ i64       ┆ str                ┆ str            ┆ ---                ┆ ---               │\n",
       "│       ┆           ┆                    ┆                ┆ i64                ┆ i64               │\n",
       "╞═══════╪═══════════╪════════════════════╪════════════════╪════════════════════╪═══════════════════╡\n",
       "│ 2014  ┆ 1         ┆ Normandie          ┆ Vire Normandie ┆ 11681              ┆ 62866639          │\n",
       "│ 2014  ┆ 1         ┆ Hauts-de-France    ┆ Amiens         ┆ 90580              ┆ 572711738         │\n",
       "│ 2014  ┆ 1         ┆ Hauts-de-France    ┆ Creil          ┆ 61676              ┆ 414840592         │\n",
       "│ 2014  ┆ 1         ┆ Hauts-de-France    ┆ Laon           ┆ 18282              ┆ 105843421         │\n",
       "│ …     ┆ …         ┆ …                  ┆ …              ┆ …                  ┆ …                 │\n",
       "│ 2023  ┆ 3         ┆ Provence-Alpes-Côt ┆ Toulon         ┆ 140076             ┆ 1039750685        │\n",
       "│       ┆           ┆ e d'Azur           ┆                ┆                    ┆                   │\n",
       "│ 2023  ┆ 3         ┆ Provence-Alpes-Côt ┆ Arles          ┆ 31352              ┆ 232472228         │\n",
       "│       ┆           ┆ e d'Azur           ┆                ┆                    ┆                   │\n",
       "│ 2023  ┆ 3         ┆ Corse              ┆ Ajaccio        ┆ 31458              ┆ 240744754         │\n",
       "│ 2023  ┆ 3         ┆ Corse              ┆ Calvi          ┆ 6189               ┆ 42252578          │\n",
       "└───────┴───────────┴────────────────────┴────────────────┴────────────────────┴───────────────────┘"
      ]
     },
     "execution_count": 50,
     "metadata": {},
     "output_type": "execute_result"
    }
   ],
   "source": [
    "job_f1.collect()"
   ]
  }
 ],
 "metadata": {
  "kernelspec": {
   "display_name": ".venv",
   "language": "python",
   "name": "python3"
  },
  "language_info": {
   "codemirror_mode": {
    "name": "ipython",
    "version": 3
   },
   "file_extension": ".py",
   "mimetype": "text/x-python",
   "name": "python",
   "nbconvert_exporter": "python",
   "pygments_lexer": "ipython3",
   "version": "3.9.2"
  }
 },
 "nbformat": 4,
 "nbformat_minor": 2
}
