{
 "cells": [
  {
   "cell_type": "markdown",
   "metadata": {},
   "source": [
    "[Données à récupérer](https://www.legifrance.gouv.fr/search/lois?tab_selection=lawarticledecree&searchField=ALL&query=*&searchType=ALL&nature=LOI&nature=ORDONNANCE&nature=DECRET&nature=DECRET_LOI&nature=ARRETE&nature=CONSTITUTION&nature=DECISION&nature=CONVENTION&nature=DECLARATION&nature=ACCORD_FONCTION_PUBLIQUE&etatArticle=VIGUEUR&etatArticle=ABROGE_DIFF&etatTexte=VIGUEUR&etatTexte=ABROGE_DIFF&typeRecherche=date&dateVersion=05%2F02%2F2024&typePagination=DEFAUT&sortValue=SIGNATURE_DATE_DESC&pageSize=10&page=1&tab_selection=lawarticledecree#lois) <br>\n",
    "\n",
    "[Question Perplexity](https://www.perplexity.ai/search/Je-souhaite-rcuprer-0qcux1Q.RCupIrcoMezHNg?s=u) <br>\n",
    "[API Legifrance](https://www.legifrance.gouv.fr/contenu/pied-de-page/open-data-et-api) <br>\n",
    "\n",
    "[Obtention des données](https://www.perplexity.ai/search?q=&focus=internet&s=u) <br>\n",
    "[Pylegifrance](https://www.legalgpt.eu/deployer/utilisation-de-lapi-legifrance/)\n",
    "\n",
    "Date : 05-02-24"
   ]
  },
  {
   "cell_type": "code",
   "execution_count": null,
   "metadata": {},
   "outputs": [],
   "source": []
  }
 ],
 "metadata": {
  "language_info": {
   "name": "python"
  }
 },
 "nbformat": 4,
 "nbformat_minor": 2
}
