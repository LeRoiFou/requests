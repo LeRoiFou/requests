{
 "cells": [
  {
   "cell_type": "markdown",
   "metadata": {},
   "source": [
    "[Scraping avec Python : Formation Complète 2024](https://www.youtube.com/watch?v=sOAZpHDEdkg)\n",
    "\n",
    "Exercices simples - introduction - 01:32:00\n",
    "\n",
    "Exercice 2 : récupérer les livres notés 1 étoile\n",
    "\n",
    "Date : "
   ]
  }
 ],
 "metadata": {
  "language_info": {
   "name": "python"
  }
 },
 "nbformat": 4,
 "nbformat_minor": 2
}
